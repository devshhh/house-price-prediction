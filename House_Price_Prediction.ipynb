{
  "nbformat": 4,
  "nbformat_minor": 0,
  "metadata": {
    "colab": {
      "provenance": [],
      "collapsed_sections": [],
      "include_colab_link": true
    },
    "kernelspec": {
      "name": "python3",
      "display_name": "Python 3"
    },
    "language_info": {
      "name": "python"
    }
  },
  "cells": [
    {
      "cell_type": "markdown",
      "metadata": {
        "id": "view-in-github",
        "colab_type": "text"
      },
      "source": [
        "<a href=\"https://colab.research.google.com/github/devshhh/house-price-prediction/blob/main/House_Price_Prediction.ipynb\" target=\"_parent\"><img src=\"https://colab.research.google.com/assets/colab-badge.svg\" alt=\"Open In Colab\"/></a>"
      ]
    },
    {
      "cell_type": "code",
      "execution_count": 1,
      "metadata": {
        "id": "HtnALw1-HlWB"
      },
      "outputs": [],
      "source": [
        "import pandas as pd\n",
        "import numpy as np\n",
        "import matplotlib \n",
        "import matplotlib.pyplot as plt\n",
        "import pickle\n",
        "matplotlib.rcParams[\"figure.figsize\"] = (20,10)"
      ]
    },
    {
      "cell_type": "code",
      "source": [
        "df = pd.read_csv('/content/house_prices.csv')\n",
        "df.head()"
      ],
      "metadata": {
        "colab": {
          "base_uri": "https://localhost:8080/",
          "height": 214
        },
        "id": "mYxH33--IfxW",
        "outputId": "c8fc257c-34c0-4a6e-9174-f03dbe15b096"
      },
      "execution_count": 4,
      "outputs": [
        {
          "output_type": "execute_result",
          "data": {
            "text/plain": [
              "              area_type   availability                  location       size  \\\n",
              "0  Super built-up  Area         19-Dec  Electronic City Phase II      2 BHK   \n",
              "1            Plot  Area  Ready To Move          Chikka Tirupathi  4 Bedroom   \n",
              "2        Built-up  Area  Ready To Move               Uttarahalli      3 BHK   \n",
              "3  Super built-up  Area  Ready To Move        Lingadheeranahalli      3 BHK   \n",
              "4  Super built-up  Area  Ready To Move                  Kothanur      2 BHK   \n",
              "\n",
              "   society total_sqft  bath  balcony   price  \n",
              "0  Coomee        1056   2.0      1.0   39.07  \n",
              "1  Theanmp       2600   5.0      3.0  120.00  \n",
              "2      NaN       1440   2.0      3.0   62.00  \n",
              "3  Soiewre       1521   3.0      1.0   95.00  \n",
              "4      NaN       1200   2.0      1.0   51.00  "
            ],
            "text/html": [
              "\n",
              "  <div id=\"df-272086b5-1205-4753-aa6a-1ee3b9d80399\">\n",
              "    <div class=\"colab-df-container\">\n",
              "      <div>\n",
              "<style scoped>\n",
              "    .dataframe tbody tr th:only-of-type {\n",
              "        vertical-align: middle;\n",
              "    }\n",
              "\n",
              "    .dataframe tbody tr th {\n",
              "        vertical-align: top;\n",
              "    }\n",
              "\n",
              "    .dataframe thead th {\n",
              "        text-align: right;\n",
              "    }\n",
              "</style>\n",
              "<table border=\"1\" class=\"dataframe\">\n",
              "  <thead>\n",
              "    <tr style=\"text-align: right;\">\n",
              "      <th></th>\n",
              "      <th>area_type</th>\n",
              "      <th>availability</th>\n",
              "      <th>location</th>\n",
              "      <th>size</th>\n",
              "      <th>society</th>\n",
              "      <th>total_sqft</th>\n",
              "      <th>bath</th>\n",
              "      <th>balcony</th>\n",
              "      <th>price</th>\n",
              "    </tr>\n",
              "  </thead>\n",
              "  <tbody>\n",
              "    <tr>\n",
              "      <th>0</th>\n",
              "      <td>Super built-up  Area</td>\n",
              "      <td>19-Dec</td>\n",
              "      <td>Electronic City Phase II</td>\n",
              "      <td>2 BHK</td>\n",
              "      <td>Coomee</td>\n",
              "      <td>1056</td>\n",
              "      <td>2.0</td>\n",
              "      <td>1.0</td>\n",
              "      <td>39.07</td>\n",
              "    </tr>\n",
              "    <tr>\n",
              "      <th>1</th>\n",
              "      <td>Plot  Area</td>\n",
              "      <td>Ready To Move</td>\n",
              "      <td>Chikka Tirupathi</td>\n",
              "      <td>4 Bedroom</td>\n",
              "      <td>Theanmp</td>\n",
              "      <td>2600</td>\n",
              "      <td>5.0</td>\n",
              "      <td>3.0</td>\n",
              "      <td>120.00</td>\n",
              "    </tr>\n",
              "    <tr>\n",
              "      <th>2</th>\n",
              "      <td>Built-up  Area</td>\n",
              "      <td>Ready To Move</td>\n",
              "      <td>Uttarahalli</td>\n",
              "      <td>3 BHK</td>\n",
              "      <td>NaN</td>\n",
              "      <td>1440</td>\n",
              "      <td>2.0</td>\n",
              "      <td>3.0</td>\n",
              "      <td>62.00</td>\n",
              "    </tr>\n",
              "    <tr>\n",
              "      <th>3</th>\n",
              "      <td>Super built-up  Area</td>\n",
              "      <td>Ready To Move</td>\n",
              "      <td>Lingadheeranahalli</td>\n",
              "      <td>3 BHK</td>\n",
              "      <td>Soiewre</td>\n",
              "      <td>1521</td>\n",
              "      <td>3.0</td>\n",
              "      <td>1.0</td>\n",
              "      <td>95.00</td>\n",
              "    </tr>\n",
              "    <tr>\n",
              "      <th>4</th>\n",
              "      <td>Super built-up  Area</td>\n",
              "      <td>Ready To Move</td>\n",
              "      <td>Kothanur</td>\n",
              "      <td>2 BHK</td>\n",
              "      <td>NaN</td>\n",
              "      <td>1200</td>\n",
              "      <td>2.0</td>\n",
              "      <td>1.0</td>\n",
              "      <td>51.00</td>\n",
              "    </tr>\n",
              "  </tbody>\n",
              "</table>\n",
              "</div>\n",
              "      <button class=\"colab-df-convert\" onclick=\"convertToInteractive('df-272086b5-1205-4753-aa6a-1ee3b9d80399')\"\n",
              "              title=\"Convert this dataframe to an interactive table.\"\n",
              "              style=\"display:none;\">\n",
              "        \n",
              "  <svg xmlns=\"http://www.w3.org/2000/svg\" height=\"24px\"viewBox=\"0 0 24 24\"\n",
              "       width=\"24px\">\n",
              "    <path d=\"M0 0h24v24H0V0z\" fill=\"none\"/>\n",
              "    <path d=\"M18.56 5.44l.94 2.06.94-2.06 2.06-.94-2.06-.94-.94-2.06-.94 2.06-2.06.94zm-11 1L8.5 8.5l.94-2.06 2.06-.94-2.06-.94L8.5 2.5l-.94 2.06-2.06.94zm10 10l.94 2.06.94-2.06 2.06-.94-2.06-.94-.94-2.06-.94 2.06-2.06.94z\"/><path d=\"M17.41 7.96l-1.37-1.37c-.4-.4-.92-.59-1.43-.59-.52 0-1.04.2-1.43.59L10.3 9.45l-7.72 7.72c-.78.78-.78 2.05 0 2.83L4 21.41c.39.39.9.59 1.41.59.51 0 1.02-.2 1.41-.59l7.78-7.78 2.81-2.81c.8-.78.8-2.07 0-2.86zM5.41 20L4 18.59l7.72-7.72 1.47 1.35L5.41 20z\"/>\n",
              "  </svg>\n",
              "      </button>\n",
              "      \n",
              "  <style>\n",
              "    .colab-df-container {\n",
              "      display:flex;\n",
              "      flex-wrap:wrap;\n",
              "      gap: 12px;\n",
              "    }\n",
              "\n",
              "    .colab-df-convert {\n",
              "      background-color: #E8F0FE;\n",
              "      border: none;\n",
              "      border-radius: 50%;\n",
              "      cursor: pointer;\n",
              "      display: none;\n",
              "      fill: #1967D2;\n",
              "      height: 32px;\n",
              "      padding: 0 0 0 0;\n",
              "      width: 32px;\n",
              "    }\n",
              "\n",
              "    .colab-df-convert:hover {\n",
              "      background-color: #E2EBFA;\n",
              "      box-shadow: 0px 1px 2px rgba(60, 64, 67, 0.3), 0px 1px 3px 1px rgba(60, 64, 67, 0.15);\n",
              "      fill: #174EA6;\n",
              "    }\n",
              "\n",
              "    [theme=dark] .colab-df-convert {\n",
              "      background-color: #3B4455;\n",
              "      fill: #D2E3FC;\n",
              "    }\n",
              "\n",
              "    [theme=dark] .colab-df-convert:hover {\n",
              "      background-color: #434B5C;\n",
              "      box-shadow: 0px 1px 3px 1px rgba(0, 0, 0, 0.15);\n",
              "      filter: drop-shadow(0px 1px 2px rgba(0, 0, 0, 0.3));\n",
              "      fill: #FFFFFF;\n",
              "    }\n",
              "  </style>\n",
              "\n",
              "      <script>\n",
              "        const buttonEl =\n",
              "          document.querySelector('#df-272086b5-1205-4753-aa6a-1ee3b9d80399 button.colab-df-convert');\n",
              "        buttonEl.style.display =\n",
              "          google.colab.kernel.accessAllowed ? 'block' : 'none';\n",
              "\n",
              "        async function convertToInteractive(key) {\n",
              "          const element = document.querySelector('#df-272086b5-1205-4753-aa6a-1ee3b9d80399');\n",
              "          const dataTable =\n",
              "            await google.colab.kernel.invokeFunction('convertToInteractive',\n",
              "                                                     [key], {});\n",
              "          if (!dataTable) return;\n",
              "\n",
              "          const docLinkHtml = 'Like what you see? Visit the ' +\n",
              "            '<a target=\"_blank\" href=https://colab.research.google.com/notebooks/data_table.ipynb>data table notebook</a>'\n",
              "            + ' to learn more about interactive tables.';\n",
              "          element.innerHTML = '';\n",
              "          dataTable['output_type'] = 'display_data';\n",
              "          await google.colab.output.renderOutput(dataTable, element);\n",
              "          const docLink = document.createElement('div');\n",
              "          docLink.innerHTML = docLinkHtml;\n",
              "          element.appendChild(docLink);\n",
              "        }\n",
              "      </script>\n",
              "    </div>\n",
              "  </div>\n",
              "  "
            ]
          },
          "metadata": {},
          "execution_count": 4
        }
      ]
    },
    {
      "cell_type": "code",
      "source": [
        "df.shape"
      ],
      "metadata": {
        "colab": {
          "base_uri": "https://localhost:8080/"
        },
        "id": "3jknTVZUImcX",
        "outputId": "55785478-3604-4609-bdc6-ef62dfac7990"
      },
      "execution_count": 5,
      "outputs": [
        {
          "output_type": "execute_result",
          "data": {
            "text/plain": [
              "(13320, 9)"
            ]
          },
          "metadata": {},
          "execution_count": 5
        }
      ]
    },
    {
      "cell_type": "code",
      "source": [
        "df.columns"
      ],
      "metadata": {
        "colab": {
          "base_uri": "https://localhost:8080/"
        },
        "id": "rfcGJd2jIqJA",
        "outputId": "aa67e555-120e-4494-b6a5-a5852a523ce4"
      },
      "execution_count": 7,
      "outputs": [
        {
          "output_type": "execute_result",
          "data": {
            "text/plain": [
              "Index(['area_type', 'availability', 'location', 'size', 'society',\n",
              "       'total_sqft', 'bath', 'balcony', 'price'],\n",
              "      dtype='object')"
            ]
          },
          "metadata": {},
          "execution_count": 7
        }
      ]
    },
    {
      "cell_type": "code",
      "source": [
        "df['area_type'].unique()"
      ],
      "metadata": {
        "colab": {
          "base_uri": "https://localhost:8080/"
        },
        "id": "2syXRyZfItYd",
        "outputId": "bb4168a6-92e1-467b-852a-fe4b24c60cb2"
      },
      "execution_count": 8,
      "outputs": [
        {
          "output_type": "execute_result",
          "data": {
            "text/plain": [
              "array(['Super built-up  Area', 'Plot  Area', 'Built-up  Area',\n",
              "       'Carpet  Area'], dtype=object)"
            ]
          },
          "metadata": {},
          "execution_count": 8
        }
      ]
    },
    {
      "cell_type": "code",
      "source": [
        "df['area_type'].value_counts()"
      ],
      "metadata": {
        "colab": {
          "base_uri": "https://localhost:8080/"
        },
        "id": "grjhDUbxIyff",
        "outputId": "4607fe15-5252-4931-e2b3-a5dd8aa93db1"
      },
      "execution_count": 9,
      "outputs": [
        {
          "output_type": "execute_result",
          "data": {
            "text/plain": [
              "Super built-up  Area    8790\n",
              "Built-up  Area          2418\n",
              "Plot  Area              2025\n",
              "Carpet  Area              87\n",
              "Name: area_type, dtype: int64"
            ]
          },
          "metadata": {},
          "execution_count": 9
        }
      ]
    },
    {
      "cell_type": "markdown",
      "source": [
        "**Drop features that are not required to build our model**"
      ],
      "metadata": {
        "id": "PSo2UQloJEXu"
      }
    },
    {
      "cell_type": "code",
      "source": [
        "df1 = df.drop(['area_type','society','balcony','availability'],axis='columns')\n",
        "df1.shape"
      ],
      "metadata": {
        "colab": {
          "base_uri": "https://localhost:8080/"
        },
        "id": "QSmRw-CFI7aL",
        "outputId": "2ceb9393-e14a-4d12-a6fa-9e3833157ae1"
      },
      "execution_count": 10,
      "outputs": [
        {
          "output_type": "execute_result",
          "data": {
            "text/plain": [
              "(13320, 5)"
            ]
          },
          "metadata": {},
          "execution_count": 10
        }
      ]
    },
    {
      "cell_type": "markdown",
      "source": [
        "# DATA CLEANING"
      ],
      "metadata": {
        "id": "aBZjwBFuJcSb"
      }
    },
    {
      "cell_type": "code",
      "source": [
        "df1.isnull().sum()"
      ],
      "metadata": {
        "colab": {
          "base_uri": "https://localhost:8080/"
        },
        "id": "xbNG7fBDJZAY",
        "outputId": "b08506c7-ff72-4e00-8fbf-101d94c75624"
      },
      "execution_count": 11,
      "outputs": [
        {
          "output_type": "execute_result",
          "data": {
            "text/plain": [
              "location       1\n",
              "size          16\n",
              "total_sqft     0\n",
              "bath          73\n",
              "price          0\n",
              "dtype: int64"
            ]
          },
          "metadata": {},
          "execution_count": 11
        }
      ]
    },
    {
      "cell_type": "code",
      "source": [
        "df2 = df1.dropna()"
      ],
      "metadata": {
        "id": "lw14QRJ1JrHo"
      },
      "execution_count": 22,
      "outputs": []
    },
    {
      "cell_type": "code",
      "source": [
        "df2.isnull().sum()"
      ],
      "metadata": {
        "colab": {
          "base_uri": "https://localhost:8080/"
        },
        "id": "HkP3EM07JwIm",
        "outputId": "6543ac86-6aa3-4002-ea73-ba7fb90ad0db"
      },
      "execution_count": 23,
      "outputs": [
        {
          "output_type": "execute_result",
          "data": {
            "text/plain": [
              "location      0\n",
              "size          0\n",
              "total_sqft    0\n",
              "bath          0\n",
              "price         0\n",
              "dtype: int64"
            ]
          },
          "metadata": {},
          "execution_count": 23
        }
      ]
    },
    {
      "cell_type": "code",
      "source": [
        "df2.shape"
      ],
      "metadata": {
        "colab": {
          "base_uri": "https://localhost:8080/"
        },
        "id": "GGAGDHEHJ0cL",
        "outputId": "47fd0bda-8800-491e-f7b7-7799ca62c533"
      },
      "execution_count": 24,
      "outputs": [
        {
          "output_type": "execute_result",
          "data": {
            "text/plain": [
              "(13246, 5)"
            ]
          },
          "metadata": {},
          "execution_count": 24
        }
      ]
    },
    {
      "cell_type": "markdown",
      "source": [
        "# FEATURE ENGINEERING"
      ],
      "metadata": {
        "id": "HyfGPYm-J-RM"
      }
    },
    {
      "cell_type": "markdown",
      "source": [
        "**Add new feature(integer) for bhk (Bedrooms Hall Kitchen)**"
      ],
      "metadata": {
        "id": "Ubv4b9f2KPDH"
      }
    },
    {
      "cell_type": "code",
      "source": [
        "df2['bhk'] = df2['size'].apply(lambda x: int(x.split(' ')[0]))\n",
        "df2.bhk.unique()"
      ],
      "metadata": {
        "colab": {
          "base_uri": "https://localhost:8080/"
        },
        "id": "Tu5bQxEHJ3rD",
        "outputId": "7c48515a-d265-4d89-d706-133e1a6c87c7"
      },
      "execution_count": 25,
      "outputs": [
        {
          "output_type": "stream",
          "name": "stderr",
          "text": [
            "/usr/local/lib/python3.7/dist-packages/ipykernel_launcher.py:1: SettingWithCopyWarning: \n",
            "A value is trying to be set on a copy of a slice from a DataFrame.\n",
            "Try using .loc[row_indexer,col_indexer] = value instead\n",
            "\n",
            "See the caveats in the documentation: https://pandas.pydata.org/pandas-docs/stable/user_guide/indexing.html#returning-a-view-versus-a-copy\n",
            "  \"\"\"Entry point for launching an IPython kernel.\n"
          ]
        },
        {
          "output_type": "execute_result",
          "data": {
            "text/plain": [
              "array([ 2,  4,  3,  6,  1,  8,  7,  5, 11,  9, 27, 10, 19, 16, 43, 14, 12,\n",
              "       13, 18])"
            ]
          },
          "metadata": {},
          "execution_count": 25
        }
      ]
    },
    {
      "cell_type": "code",
      "source": [
        "def is_float(x):\n",
        "    try:\n",
        "        float(x)\n",
        "    except:\n",
        "        return False\n",
        "    return True"
      ],
      "metadata": {
        "id": "tetjwuQrKVJF"
      },
      "execution_count": 20,
      "outputs": []
    },
    {
      "cell_type": "code",
      "source": [
        "df2[~df2['total_sqft'].apply(is_float)].head(10)"
      ],
      "metadata": {
        "colab": {
          "base_uri": "https://localhost:8080/",
          "height": 363
        },
        "id": "M_tVB6dOLuQ1",
        "outputId": "a825bb46-14a8-405b-8562-928ab8626f9b"
      },
      "execution_count": 26,
      "outputs": [
        {
          "output_type": "execute_result",
          "data": {
            "text/plain": [
              "               location       size      total_sqft  bath    price  bhk\n",
              "30            Yelahanka      4 BHK     2100 - 2850   4.0  186.000    4\n",
              "122              Hebbal      4 BHK     3067 - 8156   4.0  477.000    4\n",
              "137  8th Phase JP Nagar      2 BHK     1042 - 1105   2.0   54.005    2\n",
              "165            Sarjapur      2 BHK     1145 - 1340   2.0   43.490    2\n",
              "188            KR Puram      2 BHK     1015 - 1540   2.0   56.800    2\n",
              "410             Kengeri      1 BHK  34.46Sq. Meter   1.0   18.500    1\n",
              "549         Hennur Road      2 BHK     1195 - 1440   2.0   63.770    2\n",
              "648             Arekere  9 Bedroom       4125Perch   9.0  265.000    9\n",
              "661           Yelahanka      2 BHK     1120 - 1145   2.0   48.130    2\n",
              "672        Bettahalsoor  4 Bedroom     3090 - 5002   4.0  445.000    4"
            ],
            "text/html": [
              "\n",
              "  <div id=\"df-ca93f1f2-3f72-407c-842a-26a698a378af\">\n",
              "    <div class=\"colab-df-container\">\n",
              "      <div>\n",
              "<style scoped>\n",
              "    .dataframe tbody tr th:only-of-type {\n",
              "        vertical-align: middle;\n",
              "    }\n",
              "\n",
              "    .dataframe tbody tr th {\n",
              "        vertical-align: top;\n",
              "    }\n",
              "\n",
              "    .dataframe thead th {\n",
              "        text-align: right;\n",
              "    }\n",
              "</style>\n",
              "<table border=\"1\" class=\"dataframe\">\n",
              "  <thead>\n",
              "    <tr style=\"text-align: right;\">\n",
              "      <th></th>\n",
              "      <th>location</th>\n",
              "      <th>size</th>\n",
              "      <th>total_sqft</th>\n",
              "      <th>bath</th>\n",
              "      <th>price</th>\n",
              "      <th>bhk</th>\n",
              "    </tr>\n",
              "  </thead>\n",
              "  <tbody>\n",
              "    <tr>\n",
              "      <th>30</th>\n",
              "      <td>Yelahanka</td>\n",
              "      <td>4 BHK</td>\n",
              "      <td>2100 - 2850</td>\n",
              "      <td>4.0</td>\n",
              "      <td>186.000</td>\n",
              "      <td>4</td>\n",
              "    </tr>\n",
              "    <tr>\n",
              "      <th>122</th>\n",
              "      <td>Hebbal</td>\n",
              "      <td>4 BHK</td>\n",
              "      <td>3067 - 8156</td>\n",
              "      <td>4.0</td>\n",
              "      <td>477.000</td>\n",
              "      <td>4</td>\n",
              "    </tr>\n",
              "    <tr>\n",
              "      <th>137</th>\n",
              "      <td>8th Phase JP Nagar</td>\n",
              "      <td>2 BHK</td>\n",
              "      <td>1042 - 1105</td>\n",
              "      <td>2.0</td>\n",
              "      <td>54.005</td>\n",
              "      <td>2</td>\n",
              "    </tr>\n",
              "    <tr>\n",
              "      <th>165</th>\n",
              "      <td>Sarjapur</td>\n",
              "      <td>2 BHK</td>\n",
              "      <td>1145 - 1340</td>\n",
              "      <td>2.0</td>\n",
              "      <td>43.490</td>\n",
              "      <td>2</td>\n",
              "    </tr>\n",
              "    <tr>\n",
              "      <th>188</th>\n",
              "      <td>KR Puram</td>\n",
              "      <td>2 BHK</td>\n",
              "      <td>1015 - 1540</td>\n",
              "      <td>2.0</td>\n",
              "      <td>56.800</td>\n",
              "      <td>2</td>\n",
              "    </tr>\n",
              "    <tr>\n",
              "      <th>410</th>\n",
              "      <td>Kengeri</td>\n",
              "      <td>1 BHK</td>\n",
              "      <td>34.46Sq. Meter</td>\n",
              "      <td>1.0</td>\n",
              "      <td>18.500</td>\n",
              "      <td>1</td>\n",
              "    </tr>\n",
              "    <tr>\n",
              "      <th>549</th>\n",
              "      <td>Hennur Road</td>\n",
              "      <td>2 BHK</td>\n",
              "      <td>1195 - 1440</td>\n",
              "      <td>2.0</td>\n",
              "      <td>63.770</td>\n",
              "      <td>2</td>\n",
              "    </tr>\n",
              "    <tr>\n",
              "      <th>648</th>\n",
              "      <td>Arekere</td>\n",
              "      <td>9 Bedroom</td>\n",
              "      <td>4125Perch</td>\n",
              "      <td>9.0</td>\n",
              "      <td>265.000</td>\n",
              "      <td>9</td>\n",
              "    </tr>\n",
              "    <tr>\n",
              "      <th>661</th>\n",
              "      <td>Yelahanka</td>\n",
              "      <td>2 BHK</td>\n",
              "      <td>1120 - 1145</td>\n",
              "      <td>2.0</td>\n",
              "      <td>48.130</td>\n",
              "      <td>2</td>\n",
              "    </tr>\n",
              "    <tr>\n",
              "      <th>672</th>\n",
              "      <td>Bettahalsoor</td>\n",
              "      <td>4 Bedroom</td>\n",
              "      <td>3090 - 5002</td>\n",
              "      <td>4.0</td>\n",
              "      <td>445.000</td>\n",
              "      <td>4</td>\n",
              "    </tr>\n",
              "  </tbody>\n",
              "</table>\n",
              "</div>\n",
              "      <button class=\"colab-df-convert\" onclick=\"convertToInteractive('df-ca93f1f2-3f72-407c-842a-26a698a378af')\"\n",
              "              title=\"Convert this dataframe to an interactive table.\"\n",
              "              style=\"display:none;\">\n",
              "        \n",
              "  <svg xmlns=\"http://www.w3.org/2000/svg\" height=\"24px\"viewBox=\"0 0 24 24\"\n",
              "       width=\"24px\">\n",
              "    <path d=\"M0 0h24v24H0V0z\" fill=\"none\"/>\n",
              "    <path d=\"M18.56 5.44l.94 2.06.94-2.06 2.06-.94-2.06-.94-.94-2.06-.94 2.06-2.06.94zm-11 1L8.5 8.5l.94-2.06 2.06-.94-2.06-.94L8.5 2.5l-.94 2.06-2.06.94zm10 10l.94 2.06.94-2.06 2.06-.94-2.06-.94-.94-2.06-.94 2.06-2.06.94z\"/><path d=\"M17.41 7.96l-1.37-1.37c-.4-.4-.92-.59-1.43-.59-.52 0-1.04.2-1.43.59L10.3 9.45l-7.72 7.72c-.78.78-.78 2.05 0 2.83L4 21.41c.39.39.9.59 1.41.59.51 0 1.02-.2 1.41-.59l7.78-7.78 2.81-2.81c.8-.78.8-2.07 0-2.86zM5.41 20L4 18.59l7.72-7.72 1.47 1.35L5.41 20z\"/>\n",
              "  </svg>\n",
              "      </button>\n",
              "      \n",
              "  <style>\n",
              "    .colab-df-container {\n",
              "      display:flex;\n",
              "      flex-wrap:wrap;\n",
              "      gap: 12px;\n",
              "    }\n",
              "\n",
              "    .colab-df-convert {\n",
              "      background-color: #E8F0FE;\n",
              "      border: none;\n",
              "      border-radius: 50%;\n",
              "      cursor: pointer;\n",
              "      display: none;\n",
              "      fill: #1967D2;\n",
              "      height: 32px;\n",
              "      padding: 0 0 0 0;\n",
              "      width: 32px;\n",
              "    }\n",
              "\n",
              "    .colab-df-convert:hover {\n",
              "      background-color: #E2EBFA;\n",
              "      box-shadow: 0px 1px 2px rgba(60, 64, 67, 0.3), 0px 1px 3px 1px rgba(60, 64, 67, 0.15);\n",
              "      fill: #174EA6;\n",
              "    }\n",
              "\n",
              "    [theme=dark] .colab-df-convert {\n",
              "      background-color: #3B4455;\n",
              "      fill: #D2E3FC;\n",
              "    }\n",
              "\n",
              "    [theme=dark] .colab-df-convert:hover {\n",
              "      background-color: #434B5C;\n",
              "      box-shadow: 0px 1px 3px 1px rgba(0, 0, 0, 0.15);\n",
              "      filter: drop-shadow(0px 1px 2px rgba(0, 0, 0, 0.3));\n",
              "      fill: #FFFFFF;\n",
              "    }\n",
              "  </style>\n",
              "\n",
              "      <script>\n",
              "        const buttonEl =\n",
              "          document.querySelector('#df-ca93f1f2-3f72-407c-842a-26a698a378af button.colab-df-convert');\n",
              "        buttonEl.style.display =\n",
              "          google.colab.kernel.accessAllowed ? 'block' : 'none';\n",
              "\n",
              "        async function convertToInteractive(key) {\n",
              "          const element = document.querySelector('#df-ca93f1f2-3f72-407c-842a-26a698a378af');\n",
              "          const dataTable =\n",
              "            await google.colab.kernel.invokeFunction('convertToInteractive',\n",
              "                                                     [key], {});\n",
              "          if (!dataTable) return;\n",
              "\n",
              "          const docLinkHtml = 'Like what you see? Visit the ' +\n",
              "            '<a target=\"_blank\" href=https://colab.research.google.com/notebooks/data_table.ipynb>data table notebook</a>'\n",
              "            + ' to learn more about interactive tables.';\n",
              "          element.innerHTML = '';\n",
              "          dataTable['output_type'] = 'display_data';\n",
              "          await google.colab.output.renderOutput(dataTable, element);\n",
              "          const docLink = document.createElement('div');\n",
              "          docLink.innerHTML = docLinkHtml;\n",
              "          element.appendChild(docLink);\n",
              "        }\n",
              "      </script>\n",
              "    </div>\n",
              "  </div>\n",
              "  "
            ]
          },
          "metadata": {},
          "execution_count": 26
        }
      ]
    },
    {
      "cell_type": "markdown",
      "source": [
        "**Above shows that total_sqft can be a range (e.g. 2100-2850). For such case we can just take average of min and max value in the range. There are other cases such as 34.46Sq. Meter which one can convert to square ft using unit conversion. I am going to just drop such corner cases to keep things simple**"
      ],
      "metadata": {
        "id": "9Z2V_8poL4dg"
      }
    },
    {
      "cell_type": "code",
      "source": [
        "def convert_sqft_to_num(x):\n",
        "    tokens = x.split('-')\n",
        "    if len(tokens) == 2:\n",
        "        return (float(tokens[0])+float(tokens[1]))/2\n",
        "    try:\n",
        "        return float(x)\n",
        "    except:\n",
        "        return None   "
      ],
      "metadata": {
        "id": "6BSLqlJsL1Br"
      },
      "execution_count": 27,
      "outputs": []
    },
    {
      "cell_type": "code",
      "source": [
        "df4 = df2.copy()\n",
        "df4.total_sqft = df4.total_sqft.apply(convert_sqft_to_num)\n",
        "df4 = df4[df4.total_sqft.notnull()]\n",
        "df4.head(2)\n"
      ],
      "metadata": {
        "colab": {
          "base_uri": "https://localhost:8080/",
          "height": 112
        },
        "id": "qyKqgfzXMBGY",
        "outputId": "83447cdd-4eb1-4d92-b566-55cf216e6e2f"
      },
      "execution_count": 28,
      "outputs": [
        {
          "output_type": "execute_result",
          "data": {
            "text/plain": [
              "                   location       size  total_sqft  bath   price  bhk\n",
              "0  Electronic City Phase II      2 BHK      1056.0   2.0   39.07    2\n",
              "1          Chikka Tirupathi  4 Bedroom      2600.0   5.0  120.00    4"
            ],
            "text/html": [
              "\n",
              "  <div id=\"df-6581e48c-ef31-4f44-849e-9d875517023e\">\n",
              "    <div class=\"colab-df-container\">\n",
              "      <div>\n",
              "<style scoped>\n",
              "    .dataframe tbody tr th:only-of-type {\n",
              "        vertical-align: middle;\n",
              "    }\n",
              "\n",
              "    .dataframe tbody tr th {\n",
              "        vertical-align: top;\n",
              "    }\n",
              "\n",
              "    .dataframe thead th {\n",
              "        text-align: right;\n",
              "    }\n",
              "</style>\n",
              "<table border=\"1\" class=\"dataframe\">\n",
              "  <thead>\n",
              "    <tr style=\"text-align: right;\">\n",
              "      <th></th>\n",
              "      <th>location</th>\n",
              "      <th>size</th>\n",
              "      <th>total_sqft</th>\n",
              "      <th>bath</th>\n",
              "      <th>price</th>\n",
              "      <th>bhk</th>\n",
              "    </tr>\n",
              "  </thead>\n",
              "  <tbody>\n",
              "    <tr>\n",
              "      <th>0</th>\n",
              "      <td>Electronic City Phase II</td>\n",
              "      <td>2 BHK</td>\n",
              "      <td>1056.0</td>\n",
              "      <td>2.0</td>\n",
              "      <td>39.07</td>\n",
              "      <td>2</td>\n",
              "    </tr>\n",
              "    <tr>\n",
              "      <th>1</th>\n",
              "      <td>Chikka Tirupathi</td>\n",
              "      <td>4 Bedroom</td>\n",
              "      <td>2600.0</td>\n",
              "      <td>5.0</td>\n",
              "      <td>120.00</td>\n",
              "      <td>4</td>\n",
              "    </tr>\n",
              "  </tbody>\n",
              "</table>\n",
              "</div>\n",
              "      <button class=\"colab-df-convert\" onclick=\"convertToInteractive('df-6581e48c-ef31-4f44-849e-9d875517023e')\"\n",
              "              title=\"Convert this dataframe to an interactive table.\"\n",
              "              style=\"display:none;\">\n",
              "        \n",
              "  <svg xmlns=\"http://www.w3.org/2000/svg\" height=\"24px\"viewBox=\"0 0 24 24\"\n",
              "       width=\"24px\">\n",
              "    <path d=\"M0 0h24v24H0V0z\" fill=\"none\"/>\n",
              "    <path d=\"M18.56 5.44l.94 2.06.94-2.06 2.06-.94-2.06-.94-.94-2.06-.94 2.06-2.06.94zm-11 1L8.5 8.5l.94-2.06 2.06-.94-2.06-.94L8.5 2.5l-.94 2.06-2.06.94zm10 10l.94 2.06.94-2.06 2.06-.94-2.06-.94-.94-2.06-.94 2.06-2.06.94z\"/><path d=\"M17.41 7.96l-1.37-1.37c-.4-.4-.92-.59-1.43-.59-.52 0-1.04.2-1.43.59L10.3 9.45l-7.72 7.72c-.78.78-.78 2.05 0 2.83L4 21.41c.39.39.9.59 1.41.59.51 0 1.02-.2 1.41-.59l7.78-7.78 2.81-2.81c.8-.78.8-2.07 0-2.86zM5.41 20L4 18.59l7.72-7.72 1.47 1.35L5.41 20z\"/>\n",
              "  </svg>\n",
              "      </button>\n",
              "      \n",
              "  <style>\n",
              "    .colab-df-container {\n",
              "      display:flex;\n",
              "      flex-wrap:wrap;\n",
              "      gap: 12px;\n",
              "    }\n",
              "\n",
              "    .colab-df-convert {\n",
              "      background-color: #E8F0FE;\n",
              "      border: none;\n",
              "      border-radius: 50%;\n",
              "      cursor: pointer;\n",
              "      display: none;\n",
              "      fill: #1967D2;\n",
              "      height: 32px;\n",
              "      padding: 0 0 0 0;\n",
              "      width: 32px;\n",
              "    }\n",
              "\n",
              "    .colab-df-convert:hover {\n",
              "      background-color: #E2EBFA;\n",
              "      box-shadow: 0px 1px 2px rgba(60, 64, 67, 0.3), 0px 1px 3px 1px rgba(60, 64, 67, 0.15);\n",
              "      fill: #174EA6;\n",
              "    }\n",
              "\n",
              "    [theme=dark] .colab-df-convert {\n",
              "      background-color: #3B4455;\n",
              "      fill: #D2E3FC;\n",
              "    }\n",
              "\n",
              "    [theme=dark] .colab-df-convert:hover {\n",
              "      background-color: #434B5C;\n",
              "      box-shadow: 0px 1px 3px 1px rgba(0, 0, 0, 0.15);\n",
              "      filter: drop-shadow(0px 1px 2px rgba(0, 0, 0, 0.3));\n",
              "      fill: #FFFFFF;\n",
              "    }\n",
              "  </style>\n",
              "\n",
              "      <script>\n",
              "        const buttonEl =\n",
              "          document.querySelector('#df-6581e48c-ef31-4f44-849e-9d875517023e button.colab-df-convert');\n",
              "        buttonEl.style.display =\n",
              "          google.colab.kernel.accessAllowed ? 'block' : 'none';\n",
              "\n",
              "        async function convertToInteractive(key) {\n",
              "          const element = document.querySelector('#df-6581e48c-ef31-4f44-849e-9d875517023e');\n",
              "          const dataTable =\n",
              "            await google.colab.kernel.invokeFunction('convertToInteractive',\n",
              "                                                     [key], {});\n",
              "          if (!dataTable) return;\n",
              "\n",
              "          const docLinkHtml = 'Like what you see? Visit the ' +\n",
              "            '<a target=\"_blank\" href=https://colab.research.google.com/notebooks/data_table.ipynb>data table notebook</a>'\n",
              "            + ' to learn more about interactive tables.';\n",
              "          element.innerHTML = '';\n",
              "          dataTable['output_type'] = 'display_data';\n",
              "          await google.colab.output.renderOutput(dataTable, element);\n",
              "          const docLink = document.createElement('div');\n",
              "          docLink.innerHTML = docLinkHtml;\n",
              "          element.appendChild(docLink);\n",
              "        }\n",
              "      </script>\n",
              "    </div>\n",
              "  </div>\n",
              "  "
            ]
          },
          "metadata": {},
          "execution_count": 28
        }
      ]
    },
    {
      "cell_type": "markdown",
      "source": [
        "**For below row, it shows total_sqft as 2475 which is an average of the range 2100-2850**"
      ],
      "metadata": {
        "id": "8vnEh4ARMTe2"
      }
    },
    {
      "cell_type": "code",
      "source": [
        "df4.loc[30]"
      ],
      "metadata": {
        "colab": {
          "base_uri": "https://localhost:8080/"
        },
        "id": "z1ErRPPcMGTQ",
        "outputId": "163ec962-dc4e-4dfb-e173-9d14c1a6f446"
      },
      "execution_count": 29,
      "outputs": [
        {
          "output_type": "execute_result",
          "data": {
            "text/plain": [
              "location      Yelahanka\n",
              "size              4 BHK\n",
              "total_sqft       2475.0\n",
              "bath                4.0\n",
              "price             186.0\n",
              "bhk                   4\n",
              "Name: 30, dtype: object"
            ]
          },
          "metadata": {},
          "execution_count": 29
        }
      ]
    },
    {
      "cell_type": "markdown",
      "source": [
        "**Add new feature called price per square feet**"
      ],
      "metadata": {
        "id": "UmL9_X1AMhFk"
      }
    },
    {
      "cell_type": "code",
      "source": [
        "df5 = df4.copy()\n",
        "df5['price_per_sqft'] = df5['price']*100000/df5['total_sqft']\n",
        "df5.head()"
      ],
      "metadata": {
        "colab": {
          "base_uri": "https://localhost:8080/",
          "height": 206
        },
        "id": "-Jl8zUWAMZ2E",
        "outputId": "6bd90ee8-7762-4ced-f7c6-86e46662b8dc"
      },
      "execution_count": 30,
      "outputs": [
        {
          "output_type": "execute_result",
          "data": {
            "text/plain": [
              "                   location       size  total_sqft  bath   price  bhk  \\\n",
              "0  Electronic City Phase II      2 BHK      1056.0   2.0   39.07    2   \n",
              "1          Chikka Tirupathi  4 Bedroom      2600.0   5.0  120.00    4   \n",
              "2               Uttarahalli      3 BHK      1440.0   2.0   62.00    3   \n",
              "3        Lingadheeranahalli      3 BHK      1521.0   3.0   95.00    3   \n",
              "4                  Kothanur      2 BHK      1200.0   2.0   51.00    2   \n",
              "\n",
              "   price_per_sqft  \n",
              "0     3699.810606  \n",
              "1     4615.384615  \n",
              "2     4305.555556  \n",
              "3     6245.890861  \n",
              "4     4250.000000  "
            ],
            "text/html": [
              "\n",
              "  <div id=\"df-e711d7b7-d624-4325-930a-8e287f5c3ad9\">\n",
              "    <div class=\"colab-df-container\">\n",
              "      <div>\n",
              "<style scoped>\n",
              "    .dataframe tbody tr th:only-of-type {\n",
              "        vertical-align: middle;\n",
              "    }\n",
              "\n",
              "    .dataframe tbody tr th {\n",
              "        vertical-align: top;\n",
              "    }\n",
              "\n",
              "    .dataframe thead th {\n",
              "        text-align: right;\n",
              "    }\n",
              "</style>\n",
              "<table border=\"1\" class=\"dataframe\">\n",
              "  <thead>\n",
              "    <tr style=\"text-align: right;\">\n",
              "      <th></th>\n",
              "      <th>location</th>\n",
              "      <th>size</th>\n",
              "      <th>total_sqft</th>\n",
              "      <th>bath</th>\n",
              "      <th>price</th>\n",
              "      <th>bhk</th>\n",
              "      <th>price_per_sqft</th>\n",
              "    </tr>\n",
              "  </thead>\n",
              "  <tbody>\n",
              "    <tr>\n",
              "      <th>0</th>\n",
              "      <td>Electronic City Phase II</td>\n",
              "      <td>2 BHK</td>\n",
              "      <td>1056.0</td>\n",
              "      <td>2.0</td>\n",
              "      <td>39.07</td>\n",
              "      <td>2</td>\n",
              "      <td>3699.810606</td>\n",
              "    </tr>\n",
              "    <tr>\n",
              "      <th>1</th>\n",
              "      <td>Chikka Tirupathi</td>\n",
              "      <td>4 Bedroom</td>\n",
              "      <td>2600.0</td>\n",
              "      <td>5.0</td>\n",
              "      <td>120.00</td>\n",
              "      <td>4</td>\n",
              "      <td>4615.384615</td>\n",
              "    </tr>\n",
              "    <tr>\n",
              "      <th>2</th>\n",
              "      <td>Uttarahalli</td>\n",
              "      <td>3 BHK</td>\n",
              "      <td>1440.0</td>\n",
              "      <td>2.0</td>\n",
              "      <td>62.00</td>\n",
              "      <td>3</td>\n",
              "      <td>4305.555556</td>\n",
              "    </tr>\n",
              "    <tr>\n",
              "      <th>3</th>\n",
              "      <td>Lingadheeranahalli</td>\n",
              "      <td>3 BHK</td>\n",
              "      <td>1521.0</td>\n",
              "      <td>3.0</td>\n",
              "      <td>95.00</td>\n",
              "      <td>3</td>\n",
              "      <td>6245.890861</td>\n",
              "    </tr>\n",
              "    <tr>\n",
              "      <th>4</th>\n",
              "      <td>Kothanur</td>\n",
              "      <td>2 BHK</td>\n",
              "      <td>1200.0</td>\n",
              "      <td>2.0</td>\n",
              "      <td>51.00</td>\n",
              "      <td>2</td>\n",
              "      <td>4250.000000</td>\n",
              "    </tr>\n",
              "  </tbody>\n",
              "</table>\n",
              "</div>\n",
              "      <button class=\"colab-df-convert\" onclick=\"convertToInteractive('df-e711d7b7-d624-4325-930a-8e287f5c3ad9')\"\n",
              "              title=\"Convert this dataframe to an interactive table.\"\n",
              "              style=\"display:none;\">\n",
              "        \n",
              "  <svg xmlns=\"http://www.w3.org/2000/svg\" height=\"24px\"viewBox=\"0 0 24 24\"\n",
              "       width=\"24px\">\n",
              "    <path d=\"M0 0h24v24H0V0z\" fill=\"none\"/>\n",
              "    <path d=\"M18.56 5.44l.94 2.06.94-2.06 2.06-.94-2.06-.94-.94-2.06-.94 2.06-2.06.94zm-11 1L8.5 8.5l.94-2.06 2.06-.94-2.06-.94L8.5 2.5l-.94 2.06-2.06.94zm10 10l.94 2.06.94-2.06 2.06-.94-2.06-.94-.94-2.06-.94 2.06-2.06.94z\"/><path d=\"M17.41 7.96l-1.37-1.37c-.4-.4-.92-.59-1.43-.59-.52 0-1.04.2-1.43.59L10.3 9.45l-7.72 7.72c-.78.78-.78 2.05 0 2.83L4 21.41c.39.39.9.59 1.41.59.51 0 1.02-.2 1.41-.59l7.78-7.78 2.81-2.81c.8-.78.8-2.07 0-2.86zM5.41 20L4 18.59l7.72-7.72 1.47 1.35L5.41 20z\"/>\n",
              "  </svg>\n",
              "      </button>\n",
              "      \n",
              "  <style>\n",
              "    .colab-df-container {\n",
              "      display:flex;\n",
              "      flex-wrap:wrap;\n",
              "      gap: 12px;\n",
              "    }\n",
              "\n",
              "    .colab-df-convert {\n",
              "      background-color: #E8F0FE;\n",
              "      border: none;\n",
              "      border-radius: 50%;\n",
              "      cursor: pointer;\n",
              "      display: none;\n",
              "      fill: #1967D2;\n",
              "      height: 32px;\n",
              "      padding: 0 0 0 0;\n",
              "      width: 32px;\n",
              "    }\n",
              "\n",
              "    .colab-df-convert:hover {\n",
              "      background-color: #E2EBFA;\n",
              "      box-shadow: 0px 1px 2px rgba(60, 64, 67, 0.3), 0px 1px 3px 1px rgba(60, 64, 67, 0.15);\n",
              "      fill: #174EA6;\n",
              "    }\n",
              "\n",
              "    [theme=dark] .colab-df-convert {\n",
              "      background-color: #3B4455;\n",
              "      fill: #D2E3FC;\n",
              "    }\n",
              "\n",
              "    [theme=dark] .colab-df-convert:hover {\n",
              "      background-color: #434B5C;\n",
              "      box-shadow: 0px 1px 3px 1px rgba(0, 0, 0, 0.15);\n",
              "      filter: drop-shadow(0px 1px 2px rgba(0, 0, 0, 0.3));\n",
              "      fill: #FFFFFF;\n",
              "    }\n",
              "  </style>\n",
              "\n",
              "      <script>\n",
              "        const buttonEl =\n",
              "          document.querySelector('#df-e711d7b7-d624-4325-930a-8e287f5c3ad9 button.colab-df-convert');\n",
              "        buttonEl.style.display =\n",
              "          google.colab.kernel.accessAllowed ? 'block' : 'none';\n",
              "\n",
              "        async function convertToInteractive(key) {\n",
              "          const element = document.querySelector('#df-e711d7b7-d624-4325-930a-8e287f5c3ad9');\n",
              "          const dataTable =\n",
              "            await google.colab.kernel.invokeFunction('convertToInteractive',\n",
              "                                                     [key], {});\n",
              "          if (!dataTable) return;\n",
              "\n",
              "          const docLinkHtml = 'Like what you see? Visit the ' +\n",
              "            '<a target=\"_blank\" href=https://colab.research.google.com/notebooks/data_table.ipynb>data table notebook</a>'\n",
              "            + ' to learn more about interactive tables.';\n",
              "          element.innerHTML = '';\n",
              "          dataTable['output_type'] = 'display_data';\n",
              "          await google.colab.output.renderOutput(dataTable, element);\n",
              "          const docLink = document.createElement('div');\n",
              "          docLink.innerHTML = docLinkHtml;\n",
              "          element.appendChild(docLink);\n",
              "        }\n",
              "      </script>\n",
              "    </div>\n",
              "  </div>\n",
              "  "
            ]
          },
          "metadata": {},
          "execution_count": 30
        }
      ]
    },
    {
      "cell_type": "code",
      "source": [
        "df5_stats = df5['price_per_sqft'].describe()\n",
        "df5_stats"
      ],
      "metadata": {
        "colab": {
          "base_uri": "https://localhost:8080/"
        },
        "id": "-n6kJHTyMmYl",
        "outputId": "2e523ae0-6bf3-4a8d-d463-cefef31dd116"
      },
      "execution_count": 31,
      "outputs": [
        {
          "output_type": "execute_result",
          "data": {
            "text/plain": [
              "count    1.320000e+04\n",
              "mean     7.920759e+03\n",
              "std      1.067272e+05\n",
              "min      2.678298e+02\n",
              "25%      4.267701e+03\n",
              "50%      5.438331e+03\n",
              "75%      7.317073e+03\n",
              "max      1.200000e+07\n",
              "Name: price_per_sqft, dtype: float64"
            ]
          },
          "metadata": {},
          "execution_count": 31
        }
      ]
    },
    {
      "cell_type": "code",
      "source": [
        "df5.to_csv(\"bhp.csv\",index=False)"
      ],
      "metadata": {
        "id": "HDlf5lm9MsMG"
      },
      "execution_count": 32,
      "outputs": []
    },
    {
      "cell_type": "markdown",
      "source": [
        "**Examine locations which is a categorical variable. We need to apply dimensionality reduction technique here to reduce number of locations**"
      ],
      "metadata": {
        "id": "ykCMkLHYM1Od"
      }
    },
    {
      "cell_type": "code",
      "source": [
        "df5.location = df5.location.apply(lambda x: x.strip())\n",
        "location_stats = df5['location'].value_counts(ascending=False)\n",
        "location_stats"
      ],
      "metadata": {
        "colab": {
          "base_uri": "https://localhost:8080/"
        },
        "id": "xipH4pQJMxSR",
        "outputId": "7aa18372-64ee-4bf5-e283-5117aa571dea"
      },
      "execution_count": 33,
      "outputs": [
        {
          "output_type": "execute_result",
          "data": {
            "text/plain": [
              "Whitefield                   533\n",
              "Sarjapur  Road               392\n",
              "Electronic City              304\n",
              "Kanakpura Road               264\n",
              "Thanisandra                  235\n",
              "                            ... \n",
              "Rajanna Layout                 1\n",
              "Subramanyanagar                1\n",
              "Lakshmipura Vidyaanyapura      1\n",
              "Malur Hosur Road               1\n",
              "Abshot Layout                  1\n",
              "Name: location, Length: 1287, dtype: int64"
            ]
          },
          "metadata": {},
          "execution_count": 33
        }
      ]
    },
    {
      "cell_type": "code",
      "source": [
        "location_stats.values.sum()"
      ],
      "metadata": {
        "colab": {
          "base_uri": "https://localhost:8080/"
        },
        "id": "Dy9tl16ZM6WF",
        "outputId": "9c0ac2cc-f9da-4385-9308-b9fbf783c59c"
      },
      "execution_count": 34,
      "outputs": [
        {
          "output_type": "execute_result",
          "data": {
            "text/plain": [
              "13200"
            ]
          },
          "metadata": {},
          "execution_count": 34
        }
      ]
    },
    {
      "cell_type": "code",
      "source": [
        "len(location_stats[location_stats>10])"
      ],
      "metadata": {
        "colab": {
          "base_uri": "https://localhost:8080/"
        },
        "id": "s284IkxrM-11",
        "outputId": "3987f12a-856f-4467-9a64-f5aaab9786b1"
      },
      "execution_count": 35,
      "outputs": [
        {
          "output_type": "execute_result",
          "data": {
            "text/plain": [
              "240"
            ]
          },
          "metadata": {},
          "execution_count": 35
        }
      ]
    },
    {
      "cell_type": "code",
      "source": [
        "len(location_stats)"
      ],
      "metadata": {
        "colab": {
          "base_uri": "https://localhost:8080/"
        },
        "id": "Q2kG6et5NAsF",
        "outputId": "4756b5e6-4bfb-40d1-ae79-7ba66d76b909"
      },
      "execution_count": 36,
      "outputs": [
        {
          "output_type": "execute_result",
          "data": {
            "text/plain": [
              "1287"
            ]
          },
          "metadata": {},
          "execution_count": 36
        }
      ]
    },
    {
      "cell_type": "code",
      "source": [
        "len(location_stats[location_stats<=10])"
      ],
      "metadata": {
        "colab": {
          "base_uri": "https://localhost:8080/"
        },
        "id": "Ye5_ilC0NDC3",
        "outputId": "dddd6b34-a9da-4014-b783-d2cbcc606550"
      },
      "execution_count": 37,
      "outputs": [
        {
          "output_type": "execute_result",
          "data": {
            "text/plain": [
              "1047"
            ]
          },
          "metadata": {},
          "execution_count": 37
        }
      ]
    },
    {
      "cell_type": "markdown",
      "source": [
        "# DIMENSIONALITY REDUCTION"
      ],
      "metadata": {
        "id": "zGGOf1iaNPvs"
      }
    },
    {
      "cell_type": "markdown",
      "source": [
        "**Any location having less than 10 data points should be tagged as \"other\" location. This way number of categories can be reduced by huge amount. Later on when we do one hot encoding, it will help us with having fewer dummy columns**"
      ],
      "metadata": {
        "id": "VaZMKICRNYAi"
      }
    },
    {
      "cell_type": "code",
      "source": [
        "location_stats_less_than_10 = location_stats[location_stats<=10]\n",
        "location_stats_less_than_10"
      ],
      "metadata": {
        "colab": {
          "base_uri": "https://localhost:8080/"
        },
        "id": "IMXnXJQ2NPO1",
        "outputId": "42876c19-3cac-4945-8912-c96624ca7d3e"
      },
      "execution_count": 38,
      "outputs": [
        {
          "output_type": "execute_result",
          "data": {
            "text/plain": [
              "BTM 1st Stage                10\n",
              "Gunjur Palya                 10\n",
              "Nagappa Reddy Layout         10\n",
              "Sector 1 HSR Layout          10\n",
              "Thyagaraja Nagar             10\n",
              "                             ..\n",
              "Rajanna Layout                1\n",
              "Subramanyanagar               1\n",
              "Lakshmipura Vidyaanyapura     1\n",
              "Malur Hosur Road              1\n",
              "Abshot Layout                 1\n",
              "Name: location, Length: 1047, dtype: int64"
            ]
          },
          "metadata": {},
          "execution_count": 38
        }
      ]
    },
    {
      "cell_type": "code",
      "source": [
        "len(df5.location.unique())"
      ],
      "metadata": {
        "colab": {
          "base_uri": "https://localhost:8080/"
        },
        "id": "eyO0LfcGNbsC",
        "outputId": "05cb9f77-39b9-44ba-c293-760bbbab891c"
      },
      "execution_count": 39,
      "outputs": [
        {
          "output_type": "execute_result",
          "data": {
            "text/plain": [
              "1287"
            ]
          },
          "metadata": {},
          "execution_count": 39
        }
      ]
    },
    {
      "cell_type": "code",
      "source": [
        "df5.location = df5.location.apply(lambda x: 'other' if x in location_stats_less_than_10 else x)\n",
        "len(df5.location.unique())"
      ],
      "metadata": {
        "colab": {
          "base_uri": "https://localhost:8080/"
        },
        "id": "5JkpW8l-Nfln",
        "outputId": "1e49e4db-3b00-491a-8116-7d0519b40e2a"
      },
      "execution_count": 40,
      "outputs": [
        {
          "output_type": "execute_result",
          "data": {
            "text/plain": [
              "241"
            ]
          },
          "metadata": {},
          "execution_count": 40
        }
      ]
    },
    {
      "cell_type": "code",
      "source": [
        "df5.head(20)"
      ],
      "metadata": {
        "colab": {
          "base_uri": "https://localhost:8080/",
          "height": 676
        },
        "id": "cZN-WHFBNiKG",
        "outputId": "2c61476c-dcf0-473e-a361-0711cb513735"
      },
      "execution_count": 41,
      "outputs": [
        {
          "output_type": "execute_result",
          "data": {
            "text/plain": [
              "                    location       size  total_sqft  bath   price  bhk  \\\n",
              "0   Electronic City Phase II      2 BHK      1056.0   2.0   39.07    2   \n",
              "1           Chikka Tirupathi  4 Bedroom      2600.0   5.0  120.00    4   \n",
              "2                Uttarahalli      3 BHK      1440.0   2.0   62.00    3   \n",
              "3         Lingadheeranahalli      3 BHK      1521.0   3.0   95.00    3   \n",
              "4                   Kothanur      2 BHK      1200.0   2.0   51.00    2   \n",
              "5                 Whitefield      2 BHK      1170.0   2.0   38.00    2   \n",
              "6           Old Airport Road      4 BHK      2732.0   4.0  204.00    4   \n",
              "7               Rajaji Nagar      4 BHK      3300.0   4.0  600.00    4   \n",
              "8               Marathahalli      3 BHK      1310.0   3.0   63.25    3   \n",
              "9                      other  6 Bedroom      1020.0   6.0  370.00    6   \n",
              "10                Whitefield      3 BHK      1800.0   2.0   70.00    3   \n",
              "11                Whitefield  4 Bedroom      2785.0   5.0  295.00    4   \n",
              "12        7th Phase JP Nagar      2 BHK      1000.0   2.0   38.00    2   \n",
              "13                 Gottigere      2 BHK      1100.0   2.0   40.00    2   \n",
              "14                  Sarjapur  3 Bedroom      2250.0   3.0  148.00    3   \n",
              "15               Mysore Road      2 BHK      1175.0   2.0   73.50    2   \n",
              "16             Bisuvanahalli      3 BHK      1180.0   3.0   48.00    3   \n",
              "17     Raja Rajeshwari Nagar      3 BHK      1540.0   3.0   60.00    3   \n",
              "18                     other      3 BHK      2770.0   4.0  290.00    3   \n",
              "19                     other      2 BHK      1100.0   2.0   48.00    2   \n",
              "\n",
              "    price_per_sqft  \n",
              "0      3699.810606  \n",
              "1      4615.384615  \n",
              "2      4305.555556  \n",
              "3      6245.890861  \n",
              "4      4250.000000  \n",
              "5      3247.863248  \n",
              "6      7467.057101  \n",
              "7     18181.818182  \n",
              "8      4828.244275  \n",
              "9     36274.509804  \n",
              "10     3888.888889  \n",
              "11    10592.459605  \n",
              "12     3800.000000  \n",
              "13     3636.363636  \n",
              "14     6577.777778  \n",
              "15     6255.319149  \n",
              "16     4067.796610  \n",
              "17     3896.103896  \n",
              "18    10469.314079  \n",
              "19     4363.636364  "
            ],
            "text/html": [
              "\n",
              "  <div id=\"df-8b8c1524-9f55-439c-8e88-afcd053da73d\">\n",
              "    <div class=\"colab-df-container\">\n",
              "      <div>\n",
              "<style scoped>\n",
              "    .dataframe tbody tr th:only-of-type {\n",
              "        vertical-align: middle;\n",
              "    }\n",
              "\n",
              "    .dataframe tbody tr th {\n",
              "        vertical-align: top;\n",
              "    }\n",
              "\n",
              "    .dataframe thead th {\n",
              "        text-align: right;\n",
              "    }\n",
              "</style>\n",
              "<table border=\"1\" class=\"dataframe\">\n",
              "  <thead>\n",
              "    <tr style=\"text-align: right;\">\n",
              "      <th></th>\n",
              "      <th>location</th>\n",
              "      <th>size</th>\n",
              "      <th>total_sqft</th>\n",
              "      <th>bath</th>\n",
              "      <th>price</th>\n",
              "      <th>bhk</th>\n",
              "      <th>price_per_sqft</th>\n",
              "    </tr>\n",
              "  </thead>\n",
              "  <tbody>\n",
              "    <tr>\n",
              "      <th>0</th>\n",
              "      <td>Electronic City Phase II</td>\n",
              "      <td>2 BHK</td>\n",
              "      <td>1056.0</td>\n",
              "      <td>2.0</td>\n",
              "      <td>39.07</td>\n",
              "      <td>2</td>\n",
              "      <td>3699.810606</td>\n",
              "    </tr>\n",
              "    <tr>\n",
              "      <th>1</th>\n",
              "      <td>Chikka Tirupathi</td>\n",
              "      <td>4 Bedroom</td>\n",
              "      <td>2600.0</td>\n",
              "      <td>5.0</td>\n",
              "      <td>120.00</td>\n",
              "      <td>4</td>\n",
              "      <td>4615.384615</td>\n",
              "    </tr>\n",
              "    <tr>\n",
              "      <th>2</th>\n",
              "      <td>Uttarahalli</td>\n",
              "      <td>3 BHK</td>\n",
              "      <td>1440.0</td>\n",
              "      <td>2.0</td>\n",
              "      <td>62.00</td>\n",
              "      <td>3</td>\n",
              "      <td>4305.555556</td>\n",
              "    </tr>\n",
              "    <tr>\n",
              "      <th>3</th>\n",
              "      <td>Lingadheeranahalli</td>\n",
              "      <td>3 BHK</td>\n",
              "      <td>1521.0</td>\n",
              "      <td>3.0</td>\n",
              "      <td>95.00</td>\n",
              "      <td>3</td>\n",
              "      <td>6245.890861</td>\n",
              "    </tr>\n",
              "    <tr>\n",
              "      <th>4</th>\n",
              "      <td>Kothanur</td>\n",
              "      <td>2 BHK</td>\n",
              "      <td>1200.0</td>\n",
              "      <td>2.0</td>\n",
              "      <td>51.00</td>\n",
              "      <td>2</td>\n",
              "      <td>4250.000000</td>\n",
              "    </tr>\n",
              "    <tr>\n",
              "      <th>5</th>\n",
              "      <td>Whitefield</td>\n",
              "      <td>2 BHK</td>\n",
              "      <td>1170.0</td>\n",
              "      <td>2.0</td>\n",
              "      <td>38.00</td>\n",
              "      <td>2</td>\n",
              "      <td>3247.863248</td>\n",
              "    </tr>\n",
              "    <tr>\n",
              "      <th>6</th>\n",
              "      <td>Old Airport Road</td>\n",
              "      <td>4 BHK</td>\n",
              "      <td>2732.0</td>\n",
              "      <td>4.0</td>\n",
              "      <td>204.00</td>\n",
              "      <td>4</td>\n",
              "      <td>7467.057101</td>\n",
              "    </tr>\n",
              "    <tr>\n",
              "      <th>7</th>\n",
              "      <td>Rajaji Nagar</td>\n",
              "      <td>4 BHK</td>\n",
              "      <td>3300.0</td>\n",
              "      <td>4.0</td>\n",
              "      <td>600.00</td>\n",
              "      <td>4</td>\n",
              "      <td>18181.818182</td>\n",
              "    </tr>\n",
              "    <tr>\n",
              "      <th>8</th>\n",
              "      <td>Marathahalli</td>\n",
              "      <td>3 BHK</td>\n",
              "      <td>1310.0</td>\n",
              "      <td>3.0</td>\n",
              "      <td>63.25</td>\n",
              "      <td>3</td>\n",
              "      <td>4828.244275</td>\n",
              "    </tr>\n",
              "    <tr>\n",
              "      <th>9</th>\n",
              "      <td>other</td>\n",
              "      <td>6 Bedroom</td>\n",
              "      <td>1020.0</td>\n",
              "      <td>6.0</td>\n",
              "      <td>370.00</td>\n",
              "      <td>6</td>\n",
              "      <td>36274.509804</td>\n",
              "    </tr>\n",
              "    <tr>\n",
              "      <th>10</th>\n",
              "      <td>Whitefield</td>\n",
              "      <td>3 BHK</td>\n",
              "      <td>1800.0</td>\n",
              "      <td>2.0</td>\n",
              "      <td>70.00</td>\n",
              "      <td>3</td>\n",
              "      <td>3888.888889</td>\n",
              "    </tr>\n",
              "    <tr>\n",
              "      <th>11</th>\n",
              "      <td>Whitefield</td>\n",
              "      <td>4 Bedroom</td>\n",
              "      <td>2785.0</td>\n",
              "      <td>5.0</td>\n",
              "      <td>295.00</td>\n",
              "      <td>4</td>\n",
              "      <td>10592.459605</td>\n",
              "    </tr>\n",
              "    <tr>\n",
              "      <th>12</th>\n",
              "      <td>7th Phase JP Nagar</td>\n",
              "      <td>2 BHK</td>\n",
              "      <td>1000.0</td>\n",
              "      <td>2.0</td>\n",
              "      <td>38.00</td>\n",
              "      <td>2</td>\n",
              "      <td>3800.000000</td>\n",
              "    </tr>\n",
              "    <tr>\n",
              "      <th>13</th>\n",
              "      <td>Gottigere</td>\n",
              "      <td>2 BHK</td>\n",
              "      <td>1100.0</td>\n",
              "      <td>2.0</td>\n",
              "      <td>40.00</td>\n",
              "      <td>2</td>\n",
              "      <td>3636.363636</td>\n",
              "    </tr>\n",
              "    <tr>\n",
              "      <th>14</th>\n",
              "      <td>Sarjapur</td>\n",
              "      <td>3 Bedroom</td>\n",
              "      <td>2250.0</td>\n",
              "      <td>3.0</td>\n",
              "      <td>148.00</td>\n",
              "      <td>3</td>\n",
              "      <td>6577.777778</td>\n",
              "    </tr>\n",
              "    <tr>\n",
              "      <th>15</th>\n",
              "      <td>Mysore Road</td>\n",
              "      <td>2 BHK</td>\n",
              "      <td>1175.0</td>\n",
              "      <td>2.0</td>\n",
              "      <td>73.50</td>\n",
              "      <td>2</td>\n",
              "      <td>6255.319149</td>\n",
              "    </tr>\n",
              "    <tr>\n",
              "      <th>16</th>\n",
              "      <td>Bisuvanahalli</td>\n",
              "      <td>3 BHK</td>\n",
              "      <td>1180.0</td>\n",
              "      <td>3.0</td>\n",
              "      <td>48.00</td>\n",
              "      <td>3</td>\n",
              "      <td>4067.796610</td>\n",
              "    </tr>\n",
              "    <tr>\n",
              "      <th>17</th>\n",
              "      <td>Raja Rajeshwari Nagar</td>\n",
              "      <td>3 BHK</td>\n",
              "      <td>1540.0</td>\n",
              "      <td>3.0</td>\n",
              "      <td>60.00</td>\n",
              "      <td>3</td>\n",
              "      <td>3896.103896</td>\n",
              "    </tr>\n",
              "    <tr>\n",
              "      <th>18</th>\n",
              "      <td>other</td>\n",
              "      <td>3 BHK</td>\n",
              "      <td>2770.0</td>\n",
              "      <td>4.0</td>\n",
              "      <td>290.00</td>\n",
              "      <td>3</td>\n",
              "      <td>10469.314079</td>\n",
              "    </tr>\n",
              "    <tr>\n",
              "      <th>19</th>\n",
              "      <td>other</td>\n",
              "      <td>2 BHK</td>\n",
              "      <td>1100.0</td>\n",
              "      <td>2.0</td>\n",
              "      <td>48.00</td>\n",
              "      <td>2</td>\n",
              "      <td>4363.636364</td>\n",
              "    </tr>\n",
              "  </tbody>\n",
              "</table>\n",
              "</div>\n",
              "      <button class=\"colab-df-convert\" onclick=\"convertToInteractive('df-8b8c1524-9f55-439c-8e88-afcd053da73d')\"\n",
              "              title=\"Convert this dataframe to an interactive table.\"\n",
              "              style=\"display:none;\">\n",
              "        \n",
              "  <svg xmlns=\"http://www.w3.org/2000/svg\" height=\"24px\"viewBox=\"0 0 24 24\"\n",
              "       width=\"24px\">\n",
              "    <path d=\"M0 0h24v24H0V0z\" fill=\"none\"/>\n",
              "    <path d=\"M18.56 5.44l.94 2.06.94-2.06 2.06-.94-2.06-.94-.94-2.06-.94 2.06-2.06.94zm-11 1L8.5 8.5l.94-2.06 2.06-.94-2.06-.94L8.5 2.5l-.94 2.06-2.06.94zm10 10l.94 2.06.94-2.06 2.06-.94-2.06-.94-.94-2.06-.94 2.06-2.06.94z\"/><path d=\"M17.41 7.96l-1.37-1.37c-.4-.4-.92-.59-1.43-.59-.52 0-1.04.2-1.43.59L10.3 9.45l-7.72 7.72c-.78.78-.78 2.05 0 2.83L4 21.41c.39.39.9.59 1.41.59.51 0 1.02-.2 1.41-.59l7.78-7.78 2.81-2.81c.8-.78.8-2.07 0-2.86zM5.41 20L4 18.59l7.72-7.72 1.47 1.35L5.41 20z\"/>\n",
              "  </svg>\n",
              "      </button>\n",
              "      \n",
              "  <style>\n",
              "    .colab-df-container {\n",
              "      display:flex;\n",
              "      flex-wrap:wrap;\n",
              "      gap: 12px;\n",
              "    }\n",
              "\n",
              "    .colab-df-convert {\n",
              "      background-color: #E8F0FE;\n",
              "      border: none;\n",
              "      border-radius: 50%;\n",
              "      cursor: pointer;\n",
              "      display: none;\n",
              "      fill: #1967D2;\n",
              "      height: 32px;\n",
              "      padding: 0 0 0 0;\n",
              "      width: 32px;\n",
              "    }\n",
              "\n",
              "    .colab-df-convert:hover {\n",
              "      background-color: #E2EBFA;\n",
              "      box-shadow: 0px 1px 2px rgba(60, 64, 67, 0.3), 0px 1px 3px 1px rgba(60, 64, 67, 0.15);\n",
              "      fill: #174EA6;\n",
              "    }\n",
              "\n",
              "    [theme=dark] .colab-df-convert {\n",
              "      background-color: #3B4455;\n",
              "      fill: #D2E3FC;\n",
              "    }\n",
              "\n",
              "    [theme=dark] .colab-df-convert:hover {\n",
              "      background-color: #434B5C;\n",
              "      box-shadow: 0px 1px 3px 1px rgba(0, 0, 0, 0.15);\n",
              "      filter: drop-shadow(0px 1px 2px rgba(0, 0, 0, 0.3));\n",
              "      fill: #FFFFFF;\n",
              "    }\n",
              "  </style>\n",
              "\n",
              "      <script>\n",
              "        const buttonEl =\n",
              "          document.querySelector('#df-8b8c1524-9f55-439c-8e88-afcd053da73d button.colab-df-convert');\n",
              "        buttonEl.style.display =\n",
              "          google.colab.kernel.accessAllowed ? 'block' : 'none';\n",
              "\n",
              "        async function convertToInteractive(key) {\n",
              "          const element = document.querySelector('#df-8b8c1524-9f55-439c-8e88-afcd053da73d');\n",
              "          const dataTable =\n",
              "            await google.colab.kernel.invokeFunction('convertToInteractive',\n",
              "                                                     [key], {});\n",
              "          if (!dataTable) return;\n",
              "\n",
              "          const docLinkHtml = 'Like what you see? Visit the ' +\n",
              "            '<a target=\"_blank\" href=https://colab.research.google.com/notebooks/data_table.ipynb>data table notebook</a>'\n",
              "            + ' to learn more about interactive tables.';\n",
              "          element.innerHTML = '';\n",
              "          dataTable['output_type'] = 'display_data';\n",
              "          await google.colab.output.renderOutput(dataTable, element);\n",
              "          const docLink = document.createElement('div');\n",
              "          docLink.innerHTML = docLinkHtml;\n",
              "          element.appendChild(docLink);\n",
              "        }\n",
              "      </script>\n",
              "    </div>\n",
              "  </div>\n",
              "  "
            ]
          },
          "metadata": {},
          "execution_count": 41
        }
      ]
    },
    {
      "cell_type": "markdown",
      "source": [
        "**OUTLIER REMOVAL USING BUSINESS LOGIC**\n",
        "\n",
        "\n",
        "\n",
        "As a data scientist when you have a conversation with your business manager (who has expertise in real estate), he will tell you that normally square ft per bedroom is 300 (i.e. 2 bhk apartment is minimum 600 sqft. If you have for example 400 sqft apartment with 2 bhk than that seems suspicious and can be removed as an outlier. We will remove such outliers by keeping our minimum thresold per bhk to be 300 sqft**"
      ],
      "metadata": {
        "id": "rkGETVFDNtK5"
      }
    },
    {
      "cell_type": "code",
      "source": [
        "df5[df5.total_sqft/df5.bhk<300].head()"
      ],
      "metadata": {
        "colab": {
          "base_uri": "https://localhost:8080/",
          "height": 206
        },
        "id": "qkHeoNvFNmsZ",
        "outputId": "4a0b0c4b-e9ac-47f5-8463-a7bd41c21523"
      },
      "execution_count": 42,
      "outputs": [
        {
          "output_type": "execute_result",
          "data": {
            "text/plain": [
              "               location       size  total_sqft  bath  price  bhk  \\\n",
              "9                 other  6 Bedroom      1020.0   6.0  370.0    6   \n",
              "45           HSR Layout  8 Bedroom       600.0   9.0  200.0    8   \n",
              "58        Murugeshpalya  6 Bedroom      1407.0   4.0  150.0    6   \n",
              "68  Devarachikkanahalli  8 Bedroom      1350.0   7.0   85.0    8   \n",
              "70                other  3 Bedroom       500.0   3.0  100.0    3   \n",
              "\n",
              "    price_per_sqft  \n",
              "9     36274.509804  \n",
              "45    33333.333333  \n",
              "58    10660.980810  \n",
              "68     6296.296296  \n",
              "70    20000.000000  "
            ],
            "text/html": [
              "\n",
              "  <div id=\"df-2cf724f3-c648-457d-8144-b0a445389564\">\n",
              "    <div class=\"colab-df-container\">\n",
              "      <div>\n",
              "<style scoped>\n",
              "    .dataframe tbody tr th:only-of-type {\n",
              "        vertical-align: middle;\n",
              "    }\n",
              "\n",
              "    .dataframe tbody tr th {\n",
              "        vertical-align: top;\n",
              "    }\n",
              "\n",
              "    .dataframe thead th {\n",
              "        text-align: right;\n",
              "    }\n",
              "</style>\n",
              "<table border=\"1\" class=\"dataframe\">\n",
              "  <thead>\n",
              "    <tr style=\"text-align: right;\">\n",
              "      <th></th>\n",
              "      <th>location</th>\n",
              "      <th>size</th>\n",
              "      <th>total_sqft</th>\n",
              "      <th>bath</th>\n",
              "      <th>price</th>\n",
              "      <th>bhk</th>\n",
              "      <th>price_per_sqft</th>\n",
              "    </tr>\n",
              "  </thead>\n",
              "  <tbody>\n",
              "    <tr>\n",
              "      <th>9</th>\n",
              "      <td>other</td>\n",
              "      <td>6 Bedroom</td>\n",
              "      <td>1020.0</td>\n",
              "      <td>6.0</td>\n",
              "      <td>370.0</td>\n",
              "      <td>6</td>\n",
              "      <td>36274.509804</td>\n",
              "    </tr>\n",
              "    <tr>\n",
              "      <th>45</th>\n",
              "      <td>HSR Layout</td>\n",
              "      <td>8 Bedroom</td>\n",
              "      <td>600.0</td>\n",
              "      <td>9.0</td>\n",
              "      <td>200.0</td>\n",
              "      <td>8</td>\n",
              "      <td>33333.333333</td>\n",
              "    </tr>\n",
              "    <tr>\n",
              "      <th>58</th>\n",
              "      <td>Murugeshpalya</td>\n",
              "      <td>6 Bedroom</td>\n",
              "      <td>1407.0</td>\n",
              "      <td>4.0</td>\n",
              "      <td>150.0</td>\n",
              "      <td>6</td>\n",
              "      <td>10660.980810</td>\n",
              "    </tr>\n",
              "    <tr>\n",
              "      <th>68</th>\n",
              "      <td>Devarachikkanahalli</td>\n",
              "      <td>8 Bedroom</td>\n",
              "      <td>1350.0</td>\n",
              "      <td>7.0</td>\n",
              "      <td>85.0</td>\n",
              "      <td>8</td>\n",
              "      <td>6296.296296</td>\n",
              "    </tr>\n",
              "    <tr>\n",
              "      <th>70</th>\n",
              "      <td>other</td>\n",
              "      <td>3 Bedroom</td>\n",
              "      <td>500.0</td>\n",
              "      <td>3.0</td>\n",
              "      <td>100.0</td>\n",
              "      <td>3</td>\n",
              "      <td>20000.000000</td>\n",
              "    </tr>\n",
              "  </tbody>\n",
              "</table>\n",
              "</div>\n",
              "      <button class=\"colab-df-convert\" onclick=\"convertToInteractive('df-2cf724f3-c648-457d-8144-b0a445389564')\"\n",
              "              title=\"Convert this dataframe to an interactive table.\"\n",
              "              style=\"display:none;\">\n",
              "        \n",
              "  <svg xmlns=\"http://www.w3.org/2000/svg\" height=\"24px\"viewBox=\"0 0 24 24\"\n",
              "       width=\"24px\">\n",
              "    <path d=\"M0 0h24v24H0V0z\" fill=\"none\"/>\n",
              "    <path d=\"M18.56 5.44l.94 2.06.94-2.06 2.06-.94-2.06-.94-.94-2.06-.94 2.06-2.06.94zm-11 1L8.5 8.5l.94-2.06 2.06-.94-2.06-.94L8.5 2.5l-.94 2.06-2.06.94zm10 10l.94 2.06.94-2.06 2.06-.94-2.06-.94-.94-2.06-.94 2.06-2.06.94z\"/><path d=\"M17.41 7.96l-1.37-1.37c-.4-.4-.92-.59-1.43-.59-.52 0-1.04.2-1.43.59L10.3 9.45l-7.72 7.72c-.78.78-.78 2.05 0 2.83L4 21.41c.39.39.9.59 1.41.59.51 0 1.02-.2 1.41-.59l7.78-7.78 2.81-2.81c.8-.78.8-2.07 0-2.86zM5.41 20L4 18.59l7.72-7.72 1.47 1.35L5.41 20z\"/>\n",
              "  </svg>\n",
              "      </button>\n",
              "      \n",
              "  <style>\n",
              "    .colab-df-container {\n",
              "      display:flex;\n",
              "      flex-wrap:wrap;\n",
              "      gap: 12px;\n",
              "    }\n",
              "\n",
              "    .colab-df-convert {\n",
              "      background-color: #E8F0FE;\n",
              "      border: none;\n",
              "      border-radius: 50%;\n",
              "      cursor: pointer;\n",
              "      display: none;\n",
              "      fill: #1967D2;\n",
              "      height: 32px;\n",
              "      padding: 0 0 0 0;\n",
              "      width: 32px;\n",
              "    }\n",
              "\n",
              "    .colab-df-convert:hover {\n",
              "      background-color: #E2EBFA;\n",
              "      box-shadow: 0px 1px 2px rgba(60, 64, 67, 0.3), 0px 1px 3px 1px rgba(60, 64, 67, 0.15);\n",
              "      fill: #174EA6;\n",
              "    }\n",
              "\n",
              "    [theme=dark] .colab-df-convert {\n",
              "      background-color: #3B4455;\n",
              "      fill: #D2E3FC;\n",
              "    }\n",
              "\n",
              "    [theme=dark] .colab-df-convert:hover {\n",
              "      background-color: #434B5C;\n",
              "      box-shadow: 0px 1px 3px 1px rgba(0, 0, 0, 0.15);\n",
              "      filter: drop-shadow(0px 1px 2px rgba(0, 0, 0, 0.3));\n",
              "      fill: #FFFFFF;\n",
              "    }\n",
              "  </style>\n",
              "\n",
              "      <script>\n",
              "        const buttonEl =\n",
              "          document.querySelector('#df-2cf724f3-c648-457d-8144-b0a445389564 button.colab-df-convert');\n",
              "        buttonEl.style.display =\n",
              "          google.colab.kernel.accessAllowed ? 'block' : 'none';\n",
              "\n",
              "        async function convertToInteractive(key) {\n",
              "          const element = document.querySelector('#df-2cf724f3-c648-457d-8144-b0a445389564');\n",
              "          const dataTable =\n",
              "            await google.colab.kernel.invokeFunction('convertToInteractive',\n",
              "                                                     [key], {});\n",
              "          if (!dataTable) return;\n",
              "\n",
              "          const docLinkHtml = 'Like what you see? Visit the ' +\n",
              "            '<a target=\"_blank\" href=https://colab.research.google.com/notebooks/data_table.ipynb>data table notebook</a>'\n",
              "            + ' to learn more about interactive tables.';\n",
              "          element.innerHTML = '';\n",
              "          dataTable['output_type'] = 'display_data';\n",
              "          await google.colab.output.renderOutput(dataTable, element);\n",
              "          const docLink = document.createElement('div');\n",
              "          docLink.innerHTML = docLinkHtml;\n",
              "          element.appendChild(docLink);\n",
              "        }\n",
              "      </script>\n",
              "    </div>\n",
              "  </div>\n",
              "  "
            ]
          },
          "metadata": {},
          "execution_count": 42
        }
      ]
    },
    {
      "cell_type": "markdown",
      "source": [
        "**Check above data points. We have 6 bhk apartment with 1020 sqft. Another one is 8 bhk and total sqft is 600. These are clear data errors that can be removed safely**"
      ],
      "metadata": {
        "id": "SbBg-KkSO_Nl"
      }
    },
    {
      "cell_type": "code",
      "source": [
        "df5.shape"
      ],
      "metadata": {
        "colab": {
          "base_uri": "https://localhost:8080/"
        },
        "id": "XQbLfjBFO7a6",
        "outputId": "0b3a38d2-0244-4a0c-9b3f-ce49979fb402"
      },
      "execution_count": 43,
      "outputs": [
        {
          "output_type": "execute_result",
          "data": {
            "text/plain": [
              "(13200, 7)"
            ]
          },
          "metadata": {},
          "execution_count": 43
        }
      ]
    },
    {
      "cell_type": "code",
      "source": [
        "df6 = df5[~(df5.total_sqft/df5.bhk<300)]\n",
        "df6.shape"
      ],
      "metadata": {
        "colab": {
          "base_uri": "https://localhost:8080/"
        },
        "id": "tf6nwnY0PCgo",
        "outputId": "c86d43af-b8a0-48c2-fc1a-1f19e311e5b0"
      },
      "execution_count": 45,
      "outputs": [
        {
          "output_type": "execute_result",
          "data": {
            "text/plain": [
              "(12456, 7)"
            ]
          },
          "metadata": {},
          "execution_count": 45
        }
      ]
    },
    {
      "cell_type": "markdown",
      "source": [
        "**Outlier Removal Using Standard Deviation and Mean**"
      ],
      "metadata": {
        "id": "ZBDBZrkjPISG"
      }
    },
    {
      "cell_type": "code",
      "source": [
        "df6.price_per_sqft.describe()"
      ],
      "metadata": {
        "colab": {
          "base_uri": "https://localhost:8080/"
        },
        "id": "kS0Q6RlYPEl5",
        "outputId": "af02d9cf-c143-49b7-bba1-4c0e7e7bd613"
      },
      "execution_count": 46,
      "outputs": [
        {
          "output_type": "execute_result",
          "data": {
            "text/plain": [
              "count     12456.000000\n",
              "mean       6308.502826\n",
              "std        4168.127339\n",
              "min         267.829813\n",
              "25%        4210.526316\n",
              "50%        5294.117647\n",
              "75%        6916.666667\n",
              "max      176470.588235\n",
              "Name: price_per_sqft, dtype: float64"
            ]
          },
          "metadata": {},
          "execution_count": 46
        }
      ]
    },
    {
      "cell_type": "markdown",
      "source": [
        "**Here we find that min price per sqft is 267 rs/sqft whereas max is 176470, this shows a wide variation in property prices. We should remove outliers per location using mean and one standard deviation**"
      ],
      "metadata": {
        "id": "Gog_h3TIPOkV"
      }
    },
    {
      "cell_type": "code",
      "source": [
        "def remove_pps_outliers(df):\n",
        "    df_out = pd.DataFrame()\n",
        "    for key, subdf in df.groupby('location'):\n",
        "        m = np.mean(subdf.price_per_sqft)\n",
        "        st = np.std(subdf.price_per_sqft)\n",
        "        reduced_df = subdf[(subdf.price_per_sqft>(m-st)) & (subdf.price_per_sqft<=(m+st))]\n",
        "        df_out = pd.concat([df_out,reduced_df],ignore_index=True)\n",
        "    return df_out\n",
        "df7 = remove_pps_outliers(df6)\n",
        "df7.shape"
      ],
      "metadata": {
        "colab": {
          "base_uri": "https://localhost:8080/"
        },
        "id": "anFf2PN3PLwk",
        "outputId": "0d4e75ec-8162-4897-ef16-19e9a4f740e1"
      },
      "execution_count": 47,
      "outputs": [
        {
          "output_type": "execute_result",
          "data": {
            "text/plain": [
              "(10242, 7)"
            ]
          },
          "metadata": {},
          "execution_count": 47
        }
      ]
    },
    {
      "cell_type": "markdown",
      "source": [
        "**Let's check if for a given location how does the 2 BHK and 3 BHK property prices look like**"
      ],
      "metadata": {
        "id": "YRSg3WtNPhwi"
      }
    },
    {
      "cell_type": "code",
      "source": [
        "def plot_scatter_chart(df,location):\n",
        "    bhk2 = df[(df.location==location) & (df.bhk==2)]\n",
        "    bhk3 = df[(df.location==location) & (df.bhk==3)]\n",
        "    matplotlib.rcParams['figure.figsize'] = (15,10)\n",
        "    plt.scatter(bhk2.total_sqft,bhk2.price,color='blue',label='2 BHK', s=50)\n",
        "    plt.scatter(bhk3.total_sqft,bhk3.price,marker='+', color='green',label='3 BHK', s=50)\n",
        "    plt.xlabel(\"Total Square Feet Area\")\n",
        "    plt.ylabel(\"Price (Lakh Indian Rupees)\")\n",
        "    plt.title(location)\n",
        "    plt.legend()\n",
        "    \n",
        "plot_scatter_chart(df7,\"Rajaji Nagar\")"
      ],
      "metadata": {
        "colab": {
          "base_uri": "https://localhost:8080/",
          "height": 621
        },
        "id": "HVNpFc2pPdQ0",
        "outputId": "cc8f117c-7673-472f-b327-816406f7a7b5"
      },
      "execution_count": 48,
      "outputs": [
        {
          "output_type": "display_data",
          "data": {
            "text/plain": [
              "<Figure size 1080x720 with 1 Axes>"
            ],
            "image/png": "[encoded data removed]"
          },
          "metadata": {
            "needs_background": "light"
          }
        }
      ]
    },
    {
      "cell_type": "code",
      "source": [
        "plot_scatter_chart(df7,\"Hebbal\")"
      ],
      "metadata": {
        "colab": {
          "base_uri": "https://localhost:8080/",
          "height": 621
        },
        "id": "ESxLK9E-PlYS",
        "outputId": "3571edbe-084b-4f8f-db92-8a07eb00fa18"
      },
      "execution_count": 49,
      "outputs": [
        {
          "output_type": "display_data",
          "data": {
            "text/plain": [
              "<Figure size 1080x720 with 1 Axes>"
            ],
            "image/png": "[encoded data removed]"
          },
          "metadata": {
            "needs_background": "light"
          }
        }
      ]
    },
    {
      "cell_type": "markdown",
      "source": [
        "**We should also remove properties where for same location, the price of (for example) 3 bedroom apartment is less than 2 bedroom apartment (with same square ft area). What we will do is for a given location, we will build a dictionary of stats per bhk, i.e.\n",
        "\n",
        "{\n",
        "\n",
        "  \n",
        "    '1' : {\n",
        "        'mean': 4000,\n",
        "        'std: 2000,\n",
        "        'count': 34\n",
        "    },\n",
        "\n",
        "\n",
        "    '2' : {\n",
        "        'mean': 4300,\n",
        "        'std: 2300,\n",
        "        'count': 22\n",
        "    },    \n",
        "}\n",
        "\n",
        "\n",
        "Now we can remove those 2 BHK apartments whose price_per_sqft is less than mean price_per_sqft of 1 BHK apartment**"
      ],
      "metadata": {
        "id": "gzW_4_Y9Pywx"
      }
    },
    {
      "cell_type": "code",
      "source": [
        "def remove_bhk_outliers(df):\n",
        "    exclude_indices = np.array([])\n",
        "    for location, location_df in df.groupby('location'):\n",
        "        bhk_stats = {}\n",
        "        for bhk, bhk_df in location_df.groupby('bhk'):\n",
        "            bhk_stats[bhk] = {\n",
        "                'mean': np.mean(bhk_df.price_per_sqft),\n",
        "                'std': np.std(bhk_df.price_per_sqft),\n",
        "                'count': bhk_df.shape[0]\n",
        "            }\n",
        "        for bhk, bhk_df in location_df.groupby('bhk'):\n",
        "            stats = bhk_stats.get(bhk-1)\n",
        "            if stats and stats['count']>5:\n",
        "                exclude_indices = np.append(exclude_indices, bhk_df[bhk_df.price_per_sqft<(stats['mean'])].index.values)\n",
        "    return df.drop(exclude_indices,axis='index')\n",
        "df8 = remove_bhk_outliers(df7)\n",
        "# df8 = df7.copy()\n",
        "df8.shape"
      ],
      "metadata": {
        "colab": {
          "base_uri": "https://localhost:8080/"
        },
        "id": "2MHWcPLnPtSJ",
        "outputId": "9e659e18-c98f-4139-edde-fc6f28ae76c7"
      },
      "execution_count": 50,
      "outputs": [
        {
          "output_type": "execute_result",
          "data": {
            "text/plain": [
              "(7317, 7)"
            ]
          },
          "metadata": {},
          "execution_count": 50
        }
      ]
    },
    {
      "cell_type": "markdown",
      "source": [
        "**Plotting same scatter chart again to visualize price_per_sqft for 2 BHK and 3 BHK properties**"
      ],
      "metadata": {
        "id": "smVG3AzIQJTK"
      }
    },
    {
      "cell_type": "code",
      "source": [
        "plot_scatter_chart(df8,\"Rajaji Nagar\")"
      ],
      "metadata": {
        "colab": {
          "base_uri": "https://localhost:8080/",
          "height": 621
        },
        "id": "dxkUebHuQCVC",
        "outputId": "620322d0-1604-402a-e83b-c751859007e8"
      },
      "execution_count": 51,
      "outputs": [
        {
          "output_type": "display_data",
          "data": {
            "text/plain": [
              "<Figure size 1080x720 with 1 Axes>"
            ],
            "image/png": "[encoded data removed]"
          },
          "metadata": {
            "needs_background": "light"
          }
        }
      ]
    },
    {
      "cell_type": "code",
      "source": [
        "plot_scatter_chart(df8,\"Hebbal\")"
      ],
      "metadata": {
        "colab": {
          "base_uri": "https://localhost:8080/",
          "height": 621
        },
        "id": "Co34lzpPQN9W",
        "outputId": "6bb34a3b-10b4-4009-8321-b3d7b9203628"
      },
      "execution_count": 52,
      "outputs": [
        {
          "output_type": "display_data",
          "data": {
            "text/plain": [
              "<Figure size 1080x720 with 1 Axes>"
            ],
            "image/png": "[encoded data removed]"
          },
          "metadata": {
            "needs_background": "light"
          }
        }
      ]
    },
    {
      "cell_type": "markdown",
      "source": [
        "**Based on above charts we can see that data points highlighted in red below are outliers and they are being removed due to remove_bhk_outliers function**"
      ],
      "metadata": {
        "id": "4q-fmepXQWgT"
      }
    },
    {
      "cell_type": "markdown",
      "source": [
        "**Before and after outlier removal: Rajaji Nagar**\n",
        "![rajaji_nagar_outliers.png](data:image/png;base64,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)"
      ],
      "metadata": {
        "id": "4M5YHS_pQeVo"
      }
    },
    {
      "cell_type": "markdown",
      "source": [
        "**Before and after outlier removal: Hebbal**\n",
        "\n",
        "\n",
        "![hebbal_outliers.png](data:image/png;base64,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)"
      ],
      "metadata": {
        "id": "bI6wTv8qQvks"
      }
    },
    {
      "cell_type": "code",
      "source": [
        "import matplotlib\n",
        "matplotlib.rcParams[\"figure.figsize\"] = (20,10)\n",
        "plt.hist(df8.price_per_sqft,rwidth=0.8)\n",
        "plt.xlabel(\"Price Per Square Feet\")\n",
        "plt.ylabel(\"Count\")"
      ],
      "metadata": {
        "colab": {
          "base_uri": "https://localhost:8080/",
          "height": 615
        },
        "id": "5XPWvyurQSai",
        "outputId": "c9822845-fbd8-4414-8a25-6aaaef6eda4b"
      },
      "execution_count": 53,
      "outputs": [
        {
          "output_type": "execute_result",
          "data": {
            "text/plain": [
              "Text(0, 0.5, 'Count')"
            ]
          },
          "metadata": {},
          "execution_count": 53
        },
        {
          "output_type": "display_data",
          "data": {
            "text/plain": [
              "<Figure size 1440x720 with 1 Axes>"
            ],
            "image/png": "[encoded data removed]"
          },
          "metadata": {
            "needs_background": "light"
          }
        }
      ]
    },
    {
      "cell_type": "markdown",
      "source": [
        "**Outlier Removal Using Bathrooms Feature**"
      ],
      "metadata": {
        "id": "x3Mc6khORQtD"
      }
    },
    {
      "cell_type": "code",
      "source": [
        "df8.bath.unique()"
      ],
      "metadata": {
        "colab": {
          "base_uri": "https://localhost:8080/"
        },
        "id": "t74jQNs6RMe2",
        "outputId": "52317731-1d28-4036-d471-760e3ab2aa07"
      },
      "execution_count": 54,
      "outputs": [
        {
          "output_type": "execute_result",
          "data": {
            "text/plain": [
              "array([ 4.,  3.,  2.,  5.,  8.,  1.,  6.,  7.,  9., 12., 16., 13.])"
            ]
          },
          "metadata": {},
          "execution_count": 54
        }
      ]
    },
    {
      "cell_type": "code",
      "source": [
        "plt.hist(df8.bath,rwidth=0.8)\n",
        "plt.xlabel(\"Number of bathrooms\")\n",
        "plt.ylabel(\"Count\")"
      ],
      "metadata": {
        "colab": {
          "base_uri": "https://localhost:8080/",
          "height": 615
        },
        "id": "-VqrClxbRU2g",
        "outputId": "899ccdac-e9a3-4451-f21c-45f3f58ce444"
      },
      "execution_count": 55,
      "outputs": [
        {
          "output_type": "execute_result",
          "data": {
            "text/plain": [
              "Text(0, 0.5, 'Count')"
            ]
          },
          "metadata": {},
          "execution_count": 55
        },
        {
          "output_type": "display_data",
          "data": {
            "text/plain": [
              "<Figure size 1440x720 with 1 Axes>"
            ],
            "image/png": "[encoded data removed]"
          },
          "metadata": {
            "needs_background": "light"
          }
        }
      ]
    },
    {
      "cell_type": "code",
      "source": [
        "df8[df8.bath>10]"
      ],
      "metadata": {
        "colab": {
          "base_uri": "https://localhost:8080/",
          "height": 206
        },
        "id": "yZvXa4fERYJm",
        "outputId": "86652fc6-59d0-462c-fa01-8017414d50c6"
      },
      "execution_count": 56,
      "outputs": [
        {
          "output_type": "execute_result",
          "data": {
            "text/plain": [
              "            location    size  total_sqft  bath  price  bhk  price_per_sqft\n",
              "5277  Neeladri Nagar  10 BHK      4000.0  12.0  160.0   10     4000.000000\n",
              "8483           other  10 BHK     12000.0  12.0  525.0   10     4375.000000\n",
              "8572           other  16 BHK     10000.0  16.0  550.0   16     5500.000000\n",
              "9306           other  11 BHK      6000.0  12.0  150.0   11     2500.000000\n",
              "9637           other  13 BHK      5425.0  13.0  275.0   13     5069.124424"
            ],
            "text/html": [
              "\n",
              "  <div id=\"df-b671ec4a-a0ad-4b59-bbc3-aeab0d4860ab\">\n",
              "    <div class=\"colab-df-container\">\n",
              "      <div>\n",
              "<style scoped>\n",
              "    .dataframe tbody tr th:only-of-type {\n",
              "        vertical-align: middle;\n",
              "    }\n",
              "\n",
              "    .dataframe tbody tr th {\n",
              "        vertical-align: top;\n",
              "    }\n",
              "\n",
              "    .dataframe thead th {\n",
              "        text-align: right;\n",
              "    }\n",
              "</style>\n",
              "<table border=\"1\" class=\"dataframe\">\n",
              "  <thead>\n",
              "    <tr style=\"text-align: right;\">\n",
              "      <th></th>\n",
              "      <th>location</th>\n",
              "      <th>size</th>\n",
              "      <th>total_sqft</th>\n",
              "      <th>bath</th>\n",
              "      <th>price</th>\n",
              "      <th>bhk</th>\n",
              "      <th>price_per_sqft</th>\n",
              "    </tr>\n",
              "  </thead>\n",
              "  <tbody>\n",
              "    <tr>\n",
              "      <th>5277</th>\n",
              "      <td>Neeladri Nagar</td>\n",
              "      <td>10 BHK</td>\n",
              "      <td>4000.0</td>\n",
              "      <td>12.0</td>\n",
              "      <td>160.0</td>\n",
              "      <td>10</td>\n",
              "      <td>4000.000000</td>\n",
              "    </tr>\n",
              "    <tr>\n",
              "      <th>8483</th>\n",
              "      <td>other</td>\n",
              "      <td>10 BHK</td>\n",
              "      <td>12000.0</td>\n",
              "      <td>12.0</td>\n",
              "      <td>525.0</td>\n",
              "      <td>10</td>\n",
              "      <td>4375.000000</td>\n",
              "    </tr>\n",
              "    <tr>\n",
              "      <th>8572</th>\n",
              "      <td>other</td>\n",
              "      <td>16 BHK</td>\n",
              "      <td>10000.0</td>\n",
              "      <td>16.0</td>\n",
              "      <td>550.0</td>\n",
              "      <td>16</td>\n",
              "      <td>5500.000000</td>\n",
              "    </tr>\n",
              "    <tr>\n",
              "      <th>9306</th>\n",
              "      <td>other</td>\n",
              "      <td>11 BHK</td>\n",
              "      <td>6000.0</td>\n",
              "      <td>12.0</td>\n",
              "      <td>150.0</td>\n",
              "      <td>11</td>\n",
              "      <td>2500.000000</td>\n",
              "    </tr>\n",
              "    <tr>\n",
              "      <th>9637</th>\n",
              "      <td>other</td>\n",
              "      <td>13 BHK</td>\n",
              "      <td>5425.0</td>\n",
              "      <td>13.0</td>\n",
              "      <td>275.0</td>\n",
              "      <td>13</td>\n",
              "      <td>5069.124424</td>\n",
              "    </tr>\n",
              "  </tbody>\n",
              "</table>\n",
              "</div>\n",
              "      <button class=\"colab-df-convert\" onclick=\"convertToInteractive('df-b671ec4a-a0ad-4b59-bbc3-aeab0d4860ab')\"\n",
              "              title=\"Convert this dataframe to an interactive table.\"\n",
              "              style=\"display:none;\">\n",
              "        \n",
              "  <svg xmlns=\"http://www.w3.org/2000/svg\" height=\"24px\"viewBox=\"0 0 24 24\"\n",
              "       width=\"24px\">\n",
              "    <path d=\"M0 0h24v24H0V0z\" fill=\"none\"/>\n",
              "    <path d=\"M18.56 5.44l.94 2.06.94-2.06 2.06-.94-2.06-.94-.94-2.06-.94 2.06-2.06.94zm-11 1L8.5 8.5l.94-2.06 2.06-.94-2.06-.94L8.5 2.5l-.94 2.06-2.06.94zm10 10l.94 2.06.94-2.06 2.06-.94-2.06-.94-.94-2.06-.94 2.06-2.06.94z\"/><path d=\"M17.41 7.96l-1.37-1.37c-.4-.4-.92-.59-1.43-.59-.52 0-1.04.2-1.43.59L10.3 9.45l-7.72 7.72c-.78.78-.78 2.05 0 2.83L4 21.41c.39.39.9.59 1.41.59.51 0 1.02-.2 1.41-.59l7.78-7.78 2.81-2.81c.8-.78.8-2.07 0-2.86zM5.41 20L4 18.59l7.72-7.72 1.47 1.35L5.41 20z\"/>\n",
              "  </svg>\n",
              "      </button>\n",
              "      \n",
              "  <style>\n",
              "    .colab-df-container {\n",
              "      display:flex;\n",
              "      flex-wrap:wrap;\n",
              "      gap: 12px;\n",
              "    }\n",
              "\n",
              "    .colab-df-convert {\n",
              "      background-color: #E8F0FE;\n",
              "      border: none;\n",
              "      border-radius: 50%;\n",
              "      cursor: pointer;\n",
              "      display: none;\n",
              "      fill: #1967D2;\n",
              "      height: 32px;\n",
              "      padding: 0 0 0 0;\n",
              "      width: 32px;\n",
              "    }\n",
              "\n",
              "    .colab-df-convert:hover {\n",
              "      background-color: #E2EBFA;\n",
              "      box-shadow: 0px 1px 2px rgba(60, 64, 67, 0.3), 0px 1px 3px 1px rgba(60, 64, 67, 0.15);\n",
              "      fill: #174EA6;\n",
              "    }\n",
              "\n",
              "    [theme=dark] .colab-df-convert {\n",
              "      background-color: #3B4455;\n",
              "      fill: #D2E3FC;\n",
              "    }\n",
              "\n",
              "    [theme=dark] .colab-df-convert:hover {\n",
              "      background-color: #434B5C;\n",
              "      box-shadow: 0px 1px 3px 1px rgba(0, 0, 0, 0.15);\n",
              "      filter: drop-shadow(0px 1px 2px rgba(0, 0, 0, 0.3));\n",
              "      fill: #FFFFFF;\n",
              "    }\n",
              "  </style>\n",
              "\n",
              "      <script>\n",
              "        const buttonEl =\n",
              "          document.querySelector('#df-b671ec4a-a0ad-4b59-bbc3-aeab0d4860ab button.colab-df-convert');\n",
              "        buttonEl.style.display =\n",
              "          google.colab.kernel.accessAllowed ? 'block' : 'none';\n",
              "\n",
              "        async function convertToInteractive(key) {\n",
              "          const element = document.querySelector('#df-b671ec4a-a0ad-4b59-bbc3-aeab0d4860ab');\n",
              "          const dataTable =\n",
              "            await google.colab.kernel.invokeFunction('convertToInteractive',\n",
              "                                                     [key], {});\n",
              "          if (!dataTable) return;\n",
              "\n",
              "          const docLinkHtml = 'Like what you see? Visit the ' +\n",
              "            '<a target=\"_blank\" href=https://colab.research.google.com/notebooks/data_table.ipynb>data table notebook</a>'\n",
              "            + ' to learn more about interactive tables.';\n",
              "          element.innerHTML = '';\n",
              "          dataTable['output_type'] = 'display_data';\n",
              "          await google.colab.output.renderOutput(dataTable, element);\n",
              "          const docLink = document.createElement('div');\n",
              "          docLink.innerHTML = docLinkHtml;\n",
              "          element.appendChild(docLink);\n",
              "        }\n",
              "      </script>\n",
              "    </div>\n",
              "  </div>\n",
              "  "
            ]
          },
          "metadata": {},
          "execution_count": 56
        }
      ]
    },
    {
      "cell_type": "markdown",
      "source": [
        "import **It is unusual to have 2 more bathrooms than number of bedrooms in a home**"
      ],
      "metadata": {
        "id": "tAkItbnCRuJ_"
      }
    },
    {
      "cell_type": "code",
      "source": [
        "df8[df8.bath>df8.bhk+2]"
      ],
      "metadata": {
        "colab": {
          "base_uri": "https://localhost:8080/",
          "height": 175
        },
        "id": "9s7gY4AnRrl5",
        "outputId": "20a7814a-715c-4263-d004-ce935c926643"
      },
      "execution_count": 57,
      "outputs": [
        {
          "output_type": "execute_result",
          "data": {
            "text/plain": [
              "           location       size  total_sqft  bath   price  bhk  price_per_sqft\n",
              "1626  Chikkabanavar  4 Bedroom      2460.0   7.0    80.0    4     3252.032520\n",
              "5238     Nagasandra  4 Bedroom      7000.0   8.0   450.0    4     6428.571429\n",
              "6711    Thanisandra      3 BHK      1806.0   6.0   116.0    3     6423.034330\n",
              "8408          other      6 BHK     11338.0   9.0  1000.0    6     8819.897689"
            ],
            "text/html": [
              "\n",
              "  <div id=\"df-5155ed97-29d7-405a-8abe-362bc4db7cbb\">\n",
              "    <div class=\"colab-df-container\">\n",
              "      <div>\n",
              "<style scoped>\n",
              "    .dataframe tbody tr th:only-of-type {\n",
              "        vertical-align: middle;\n",
              "    }\n",
              "\n",
              "    .dataframe tbody tr th {\n",
              "        vertical-align: top;\n",
              "    }\n",
              "\n",
              "    .dataframe thead th {\n",
              "        text-align: right;\n",
              "    }\n",
              "</style>\n",
              "<table border=\"1\" class=\"dataframe\">\n",
              "  <thead>\n",
              "    <tr style=\"text-align: right;\">\n",
              "      <th></th>\n",
              "      <th>location</th>\n",
              "      <th>size</th>\n",
              "      <th>total_sqft</th>\n",
              "      <th>bath</th>\n",
              "      <th>price</th>\n",
              "      <th>bhk</th>\n",
              "      <th>price_per_sqft</th>\n",
              "    </tr>\n",
              "  </thead>\n",
              "  <tbody>\n",
              "    <tr>\n",
              "      <th>1626</th>\n",
              "      <td>Chikkabanavar</td>\n",
              "      <td>4 Bedroom</td>\n",
              "      <td>2460.0</td>\n",
              "      <td>7.0</td>\n",
              "      <td>80.0</td>\n",
              "      <td>4</td>\n",
              "      <td>3252.032520</td>\n",
              "    </tr>\n",
              "    <tr>\n",
              "      <th>5238</th>\n",
              "      <td>Nagasandra</td>\n",
              "      <td>4 Bedroom</td>\n",
              "      <td>7000.0</td>\n",
              "      <td>8.0</td>\n",
              "      <td>450.0</td>\n",
              "      <td>4</td>\n",
              "      <td>6428.571429</td>\n",
              "    </tr>\n",
              "    <tr>\n",
              "      <th>6711</th>\n",
              "      <td>Thanisandra</td>\n",
              "      <td>3 BHK</td>\n",
              "      <td>1806.0</td>\n",
              "      <td>6.0</td>\n",
              "      <td>116.0</td>\n",
              "      <td>3</td>\n",
              "      <td>6423.034330</td>\n",
              "    </tr>\n",
              "    <tr>\n",
              "      <th>8408</th>\n",
              "      <td>other</td>\n",
              "      <td>6 BHK</td>\n",
              "      <td>11338.0</td>\n",
              "      <td>9.0</td>\n",
              "      <td>1000.0</td>\n",
              "      <td>6</td>\n",
              "      <td>8819.897689</td>\n",
              "    </tr>\n",
              "  </tbody>\n",
              "</table>\n",
              "</div>\n",
              "      <button class=\"colab-df-convert\" onclick=\"convertToInteractive('df-5155ed97-29d7-405a-8abe-362bc4db7cbb')\"\n",
              "              title=\"Convert this dataframe to an interactive table.\"\n",
              "              style=\"display:none;\">\n",
              "        \n",
              "  <svg xmlns=\"http://www.w3.org/2000/svg\" height=\"24px\"viewBox=\"0 0 24 24\"\n",
              "       width=\"24px\">\n",
              "    <path d=\"M0 0h24v24H0V0z\" fill=\"none\"/>\n",
              "    <path d=\"M18.56 5.44l.94 2.06.94-2.06 2.06-.94-2.06-.94-.94-2.06-.94 2.06-2.06.94zm-11 1L8.5 8.5l.94-2.06 2.06-.94-2.06-.94L8.5 2.5l-.94 2.06-2.06.94zm10 10l.94 2.06.94-2.06 2.06-.94-2.06-.94-.94-2.06-.94 2.06-2.06.94z\"/><path d=\"M17.41 7.96l-1.37-1.37c-.4-.4-.92-.59-1.43-.59-.52 0-1.04.2-1.43.59L10.3 9.45l-7.72 7.72c-.78.78-.78 2.05 0 2.83L4 21.41c.39.39.9.59 1.41.59.51 0 1.02-.2 1.41-.59l7.78-7.78 2.81-2.81c.8-.78.8-2.07 0-2.86zM5.41 20L4 18.59l7.72-7.72 1.47 1.35L5.41 20z\"/>\n",
              "  </svg>\n",
              "      </button>\n",
              "      \n",
              "  <style>\n",
              "    .colab-df-container {\n",
              "      display:flex;\n",
              "      flex-wrap:wrap;\n",
              "      gap: 12px;\n",
              "    }\n",
              "\n",
              "    .colab-df-convert {\n",
              "      background-color: #E8F0FE;\n",
              "      border: none;\n",
              "      border-radius: 50%;\n",
              "      cursor: pointer;\n",
              "      display: none;\n",
              "      fill: #1967D2;\n",
              "      height: 32px;\n",
              "      padding: 0 0 0 0;\n",
              "      width: 32px;\n",
              "    }\n",
              "\n",
              "    .colab-df-convert:hover {\n",
              "      background-color: #E2EBFA;\n",
              "      box-shadow: 0px 1px 2px rgba(60, 64, 67, 0.3), 0px 1px 3px 1px rgba(60, 64, 67, 0.15);\n",
              "      fill: #174EA6;\n",
              "    }\n",
              "\n",
              "    [theme=dark] .colab-df-convert {\n",
              "      background-color: #3B4455;\n",
              "      fill: #D2E3FC;\n",
              "    }\n",
              "\n",
              "    [theme=dark] .colab-df-convert:hover {\n",
              "      background-color: #434B5C;\n",
              "      box-shadow: 0px 1px 3px 1px rgba(0, 0, 0, 0.15);\n",
              "      filter: drop-shadow(0px 1px 2px rgba(0, 0, 0, 0.3));\n",
              "      fill: #FFFFFF;\n",
              "    }\n",
              "  </style>\n",
              "\n",
              "      <script>\n",
              "        const buttonEl =\n",
              "          document.querySelector('#df-5155ed97-29d7-405a-8abe-362bc4db7cbb button.colab-df-convert');\n",
              "        buttonEl.style.display =\n",
              "          google.colab.kernel.accessAllowed ? 'block' : 'none';\n",
              "\n",
              "        async function convertToInteractive(key) {\n",
              "          const element = document.querySelector('#df-5155ed97-29d7-405a-8abe-362bc4db7cbb');\n",
              "          const dataTable =\n",
              "            await google.colab.kernel.invokeFunction('convertToInteractive',\n",
              "                                                     [key], {});\n",
              "          if (!dataTable) return;\n",
              "\n",
              "          const docLinkHtml = 'Like what you see? Visit the ' +\n",
              "            '<a target=\"_blank\" href=https://colab.research.google.com/notebooks/data_table.ipynb>data table notebook</a>'\n",
              "            + ' to learn more about interactive tables.';\n",
              "          element.innerHTML = '';\n",
              "          dataTable['output_type'] = 'display_data';\n",
              "          await google.colab.output.renderOutput(dataTable, element);\n",
              "          const docLink = document.createElement('div');\n",
              "          docLink.innerHTML = docLinkHtml;\n",
              "          element.appendChild(docLink);\n",
              "        }\n",
              "      </script>\n",
              "    </div>\n",
              "  </div>\n",
              "  "
            ]
          },
          "metadata": {},
          "execution_count": 57
        }
      ]
    },
    {
      "cell_type": "markdown",
      "source": [
        "**Again the business manager has a conversation with you (i.e. a data scientist) that if you have 4 bedroom home and even if you have bathroom in all 4 rooms plus one guest bathroom, you will have total bath = total bed + 1 max. Anything above that is an outlier or a data error and can be removed**"
      ],
      "metadata": {
        "id": "CeQK_TlaR628"
      }
    },
    {
      "cell_type": "code",
      "source": [
        "df9 = df8[df8.bath<df8.bhk+2]\n",
        "df9.shape"
      ],
      "metadata": {
        "colab": {
          "base_uri": "https://localhost:8080/"
        },
        "id": "ydYSStImRz1s",
        "outputId": "75215391-188b-4238-d286-f64e908d97df"
      },
      "execution_count": 59,
      "outputs": [
        {
          "output_type": "execute_result",
          "data": {
            "text/plain": [
              "(7239, 7)"
            ]
          },
          "metadata": {},
          "execution_count": 59
        }
      ]
    },
    {
      "cell_type": "code",
      "source": [
        "df9.head(2)"
      ],
      "metadata": {
        "colab": {
          "base_uri": "https://localhost:8080/",
          "height": 112
        },
        "id": "CogdwoUSSAas",
        "outputId": "c3a1a0c9-02a4-427d-a602-abeed3ca0cd6"
      },
      "execution_count": 60,
      "outputs": [
        {
          "output_type": "execute_result",
          "data": {
            "text/plain": [
              "              location   size  total_sqft  bath  price  bhk  price_per_sqft\n",
              "0  1st Block Jayanagar  4 BHK      2850.0   4.0  428.0    4    15017.543860\n",
              "1  1st Block Jayanagar  3 BHK      1630.0   3.0  194.0    3    11901.840491"
            ],
            "text/html": [
              "\n",
              "  <div id=\"df-c45c5d07-4664-4d8c-9c1e-7a4ed32a2eee\">\n",
              "    <div class=\"colab-df-container\">\n",
              "      <div>\n",
              "<style scoped>\n",
              "    .dataframe tbody tr th:only-of-type {\n",
              "        vertical-align: middle;\n",
              "    }\n",
              "\n",
              "    .dataframe tbody tr th {\n",
              "        vertical-align: top;\n",
              "    }\n",
              "\n",
              "    .dataframe thead th {\n",
              "        text-align: right;\n",
              "    }\n",
              "</style>\n",
              "<table border=\"1\" class=\"dataframe\">\n",
              "  <thead>\n",
              "    <tr style=\"text-align: right;\">\n",
              "      <th></th>\n",
              "      <th>location</th>\n",
              "      <th>size</th>\n",
              "      <th>total_sqft</th>\n",
              "      <th>bath</th>\n",
              "      <th>price</th>\n",
              "      <th>bhk</th>\n",
              "      <th>price_per_sqft</th>\n",
              "    </tr>\n",
              "  </thead>\n",
              "  <tbody>\n",
              "    <tr>\n",
              "      <th>0</th>\n",
              "      <td>1st Block Jayanagar</td>\n",
              "      <td>4 BHK</td>\n",
              "      <td>2850.0</td>\n",
              "      <td>4.0</td>\n",
              "      <td>428.0</td>\n",
              "      <td>4</td>\n",
              "      <td>15017.543860</td>\n",
              "    </tr>\n",
              "    <tr>\n",
              "      <th>1</th>\n",
              "      <td>1st Block Jayanagar</td>\n",
              "      <td>3 BHK</td>\n",
              "      <td>1630.0</td>\n",
              "      <td>3.0</td>\n",
              "      <td>194.0</td>\n",
              "      <td>3</td>\n",
              "      <td>11901.840491</td>\n",
              "    </tr>\n",
              "  </tbody>\n",
              "</table>\n",
              "</div>\n",
              "      <button class=\"colab-df-convert\" onclick=\"convertToInteractive('df-c45c5d07-4664-4d8c-9c1e-7a4ed32a2eee')\"\n",
              "              title=\"Convert this dataframe to an interactive table.\"\n",
              "              style=\"display:none;\">\n",
              "        \n",
              "  <svg xmlns=\"http://www.w3.org/2000/svg\" height=\"24px\"viewBox=\"0 0 24 24\"\n",
              "       width=\"24px\">\n",
              "    <path d=\"M0 0h24v24H0V0z\" fill=\"none\"/>\n",
              "    <path d=\"M18.56 5.44l.94 2.06.94-2.06 2.06-.94-2.06-.94-.94-2.06-.94 2.06-2.06.94zm-11 1L8.5 8.5l.94-2.06 2.06-.94-2.06-.94L8.5 2.5l-.94 2.06-2.06.94zm10 10l.94 2.06.94-2.06 2.06-.94-2.06-.94-.94-2.06-.94 2.06-2.06.94z\"/><path d=\"M17.41 7.96l-1.37-1.37c-.4-.4-.92-.59-1.43-.59-.52 0-1.04.2-1.43.59L10.3 9.45l-7.72 7.72c-.78.78-.78 2.05 0 2.83L4 21.41c.39.39.9.59 1.41.59.51 0 1.02-.2 1.41-.59l7.78-7.78 2.81-2.81c.8-.78.8-2.07 0-2.86zM5.41 20L4 18.59l7.72-7.72 1.47 1.35L5.41 20z\"/>\n",
              "  </svg>\n",
              "      </button>\n",
              "      \n",
              "  <style>\n",
              "    .colab-df-container {\n",
              "      display:flex;\n",
              "      flex-wrap:wrap;\n",
              "      gap: 12px;\n",
              "    }\n",
              "\n",
              "    .colab-df-convert {\n",
              "      background-color: #E8F0FE;\n",
              "      border: none;\n",
              "      border-radius: 50%;\n",
              "      cursor: pointer;\n",
              "      display: none;\n",
              "      fill: #1967D2;\n",
              "      height: 32px;\n",
              "      padding: 0 0 0 0;\n",
              "      width: 32px;\n",
              "    }\n",
              "\n",
              "    .colab-df-convert:hover {\n",
              "      background-color: #E2EBFA;\n",
              "      box-shadow: 0px 1px 2px rgba(60, 64, 67, 0.3), 0px 1px 3px 1px rgba(60, 64, 67, 0.15);\n",
              "      fill: #174EA6;\n",
              "    }\n",
              "\n",
              "    [theme=dark] .colab-df-convert {\n",
              "      background-color: #3B4455;\n",
              "      fill: #D2E3FC;\n",
              "    }\n",
              "\n",
              "    [theme=dark] .colab-df-convert:hover {\n",
              "      background-color: #434B5C;\n",
              "      box-shadow: 0px 1px 3px 1px rgba(0, 0, 0, 0.15);\n",
              "      filter: drop-shadow(0px 1px 2px rgba(0, 0, 0, 0.3));\n",
              "      fill: #FFFFFF;\n",
              "    }\n",
              "  </style>\n",
              "\n",
              "      <script>\n",
              "        const buttonEl =\n",
              "          document.querySelector('#df-c45c5d07-4664-4d8c-9c1e-7a4ed32a2eee button.colab-df-convert');\n",
              "        buttonEl.style.display =\n",
              "          google.colab.kernel.accessAllowed ? 'block' : 'none';\n",
              "\n",
              "        async function convertToInteractive(key) {\n",
              "          const element = document.querySelector('#df-c45c5d07-4664-4d8c-9c1e-7a4ed32a2eee');\n",
              "          const dataTable =\n",
              "            await google.colab.kernel.invokeFunction('convertToInteractive',\n",
              "                                                     [key], {});\n",
              "          if (!dataTable) return;\n",
              "\n",
              "          const docLinkHtml = 'Like what you see? Visit the ' +\n",
              "            '<a target=\"_blank\" href=https://colab.research.google.com/notebooks/data_table.ipynb>data table notebook</a>'\n",
              "            + ' to learn more about interactive tables.';\n",
              "          element.innerHTML = '';\n",
              "          dataTable['output_type'] = 'display_data';\n",
              "          await google.colab.output.renderOutput(dataTable, element);\n",
              "          const docLink = document.createElement('div');\n",
              "          docLink.innerHTML = docLinkHtml;\n",
              "          element.appendChild(docLink);\n",
              "        }\n",
              "      </script>\n",
              "    </div>\n",
              "  </div>\n",
              "  "
            ]
          },
          "metadata": {},
          "execution_count": 60
        }
      ]
    },
    {
      "cell_type": "code",
      "source": [
        "df10 = df9.drop(['size','price_per_sqft'],axis='columns')\n",
        "df10.head(3)"
      ],
      "metadata": {
        "colab": {
          "base_uri": "https://localhost:8080/",
          "height": 143
        },
        "id": "9Cx3gh_4SCZh",
        "outputId": "bfc669e0-ef50-4cff-ab64-666935b580b9"
      },
      "execution_count": 61,
      "outputs": [
        {
          "output_type": "execute_result",
          "data": {
            "text/plain": [
              "              location  total_sqft  bath  price  bhk\n",
              "0  1st Block Jayanagar      2850.0   4.0  428.0    4\n",
              "1  1st Block Jayanagar      1630.0   3.0  194.0    3\n",
              "2  1st Block Jayanagar      1875.0   2.0  235.0    3"
            ],
            "text/html": [
              "\n",
              "  <div id=\"df-24e421d7-2a90-4cf3-b007-b4f6a823bb84\">\n",
              "    <div class=\"colab-df-container\">\n",
              "      <div>\n",
              "<style scoped>\n",
              "    .dataframe tbody tr th:only-of-type {\n",
              "        vertical-align: middle;\n",
              "    }\n",
              "\n",
              "    .dataframe tbody tr th {\n",
              "        vertical-align: top;\n",
              "    }\n",
              "\n",
              "    .dataframe thead th {\n",
              "        text-align: right;\n",
              "    }\n",
              "</style>\n",
              "<table border=\"1\" class=\"dataframe\">\n",
              "  <thead>\n",
              "    <tr style=\"text-align: right;\">\n",
              "      <th></th>\n",
              "      <th>location</th>\n",
              "      <th>total_sqft</th>\n",
              "      <th>bath</th>\n",
              "      <th>price</th>\n",
              "      <th>bhk</th>\n",
              "    </tr>\n",
              "  </thead>\n",
              "  <tbody>\n",
              "    <tr>\n",
              "      <th>0</th>\n",
              "      <td>1st Block Jayanagar</td>\n",
              "      <td>2850.0</td>\n",
              "      <td>4.0</td>\n",
              "      <td>428.0</td>\n",
              "      <td>4</td>\n",
              "    </tr>\n",
              "    <tr>\n",
              "      <th>1</th>\n",
              "      <td>1st Block Jayanagar</td>\n",
              "      <td>1630.0</td>\n",
              "      <td>3.0</td>\n",
              "      <td>194.0</td>\n",
              "      <td>3</td>\n",
              "    </tr>\n",
              "    <tr>\n",
              "      <th>2</th>\n",
              "      <td>1st Block Jayanagar</td>\n",
              "      <td>1875.0</td>\n",
              "      <td>2.0</td>\n",
              "      <td>235.0</td>\n",
              "      <td>3</td>\n",
              "    </tr>\n",
              "  </tbody>\n",
              "</table>\n",
              "</div>\n",
              "      <button class=\"colab-df-convert\" onclick=\"convertToInteractive('df-24e421d7-2a90-4cf3-b007-b4f6a823bb84')\"\n",
              "              title=\"Convert this dataframe to an interactive table.\"\n",
              "              style=\"display:none;\">\n",
              "        \n",
              "  <svg xmlns=\"http://www.w3.org/2000/svg\" height=\"24px\"viewBox=\"0 0 24 24\"\n",
              "       width=\"24px\">\n",
              "    <path d=\"M0 0h24v24H0V0z\" fill=\"none\"/>\n",
              "    <path d=\"M18.56 5.44l.94 2.06.94-2.06 2.06-.94-2.06-.94-.94-2.06-.94 2.06-2.06.94zm-11 1L8.5 8.5l.94-2.06 2.06-.94-2.06-.94L8.5 2.5l-.94 2.06-2.06.94zm10 10l.94 2.06.94-2.06 2.06-.94-2.06-.94-.94-2.06-.94 2.06-2.06.94z\"/><path d=\"M17.41 7.96l-1.37-1.37c-.4-.4-.92-.59-1.43-.59-.52 0-1.04.2-1.43.59L10.3 9.45l-7.72 7.72c-.78.78-.78 2.05 0 2.83L4 21.41c.39.39.9.59 1.41.59.51 0 1.02-.2 1.41-.59l7.78-7.78 2.81-2.81c.8-.78.8-2.07 0-2.86zM5.41 20L4 18.59l7.72-7.72 1.47 1.35L5.41 20z\"/>\n",
              "  </svg>\n",
              "      </button>\n",
              "      \n",
              "  <style>\n",
              "    .colab-df-container {\n",
              "      display:flex;\n",
              "      flex-wrap:wrap;\n",
              "      gap: 12px;\n",
              "    }\n",
              "\n",
              "    .colab-df-convert {\n",
              "      background-color: #E8F0FE;\n",
              "      border: none;\n",
              "      border-radius: 50%;\n",
              "      cursor: pointer;\n",
              "      display: none;\n",
              "      fill: #1967D2;\n",
              "      height: 32px;\n",
              "      padding: 0 0 0 0;\n",
              "      width: 32px;\n",
              "    }\n",
              "\n",
              "    .colab-df-convert:hover {\n",
              "      background-color: #E2EBFA;\n",
              "      box-shadow: 0px 1px 2px rgba(60, 64, 67, 0.3), 0px 1px 3px 1px rgba(60, 64, 67, 0.15);\n",
              "      fill: #174EA6;\n",
              "    }\n",
              "\n",
              "    [theme=dark] .colab-df-convert {\n",
              "      background-color: #3B4455;\n",
              "      fill: #D2E3FC;\n",
              "    }\n",
              "\n",
              "    [theme=dark] .colab-df-convert:hover {\n",
              "      background-color: #434B5C;\n",
              "      box-shadow: 0px 1px 3px 1px rgba(0, 0, 0, 0.15);\n",
              "      filter: drop-shadow(0px 1px 2px rgba(0, 0, 0, 0.3));\n",
              "      fill: #FFFFFF;\n",
              "    }\n",
              "  </style>\n",
              "\n",
              "      <script>\n",
              "        const buttonEl =\n",
              "          document.querySelector('#df-24e421d7-2a90-4cf3-b007-b4f6a823bb84 button.colab-df-convert');\n",
              "        buttonEl.style.display =\n",
              "          google.colab.kernel.accessAllowed ? 'block' : 'none';\n",
              "\n",
              "        async function convertToInteractive(key) {\n",
              "          const element = document.querySelector('#df-24e421d7-2a90-4cf3-b007-b4f6a823bb84');\n",
              "          const dataTable =\n",
              "            await google.colab.kernel.invokeFunction('convertToInteractive',\n",
              "                                                     [key], {});\n",
              "          if (!dataTable) return;\n",
              "\n",
              "          const docLinkHtml = 'Like what you see? Visit the ' +\n",
              "            '<a target=\"_blank\" href=https://colab.research.google.com/notebooks/data_table.ipynb>data table notebook</a>'\n",
              "            + ' to learn more about interactive tables.';\n",
              "          element.innerHTML = '';\n",
              "          dataTable['output_type'] = 'display_data';\n",
              "          await google.colab.output.renderOutput(dataTable, element);\n",
              "          const docLink = document.createElement('div');\n",
              "          docLink.innerHTML = docLinkHtml;\n",
              "          element.appendChild(docLink);\n",
              "        }\n",
              "      </script>\n",
              "    </div>\n",
              "  </div>\n",
              "  "
            ]
          },
          "metadata": {},
          "execution_count": 61
        }
      ]
    },
    {
      "cell_type": "markdown",
      "source": [
        "# Use One Hot Encoding For Location"
      ],
      "metadata": {
        "id": "h3pPUpAlSMkZ"
      }
    },
    {
      "cell_type": "code",
      "source": [
        "dummies = pd.get_dummies(df10.location)\n",
        "dummies.head(3)"
      ],
      "metadata": {
        "colab": {
          "base_uri": "https://localhost:8080/",
          "height": 289
        },
        "id": "PxTRq_3QSGLF",
        "outputId": "cddeebde-bb5a-472b-b89e-47382fa17921"
      },
      "execution_count": 62,
      "outputs": [
        {
          "output_type": "execute_result",
          "data": {
            "text/plain": [
              "   1st Block Jayanagar  1st Phase JP Nagar  2nd Phase Judicial Layout  \\\n",
              "0                    1                   0                          0   \n",
              "1                    1                   0                          0   \n",
              "2                    1                   0                          0   \n",
              "\n",
              "   2nd Stage Nagarbhavi  5th Block Hbr Layout  5th Phase JP Nagar  \\\n",
              "0                     0                     0                   0   \n",
              "1                     0                     0                   0   \n",
              "2                     0                     0                   0   \n",
              "\n",
              "   6th Phase JP Nagar  7th Phase JP Nagar  8th Phase JP Nagar  \\\n",
              "0                   0                   0                   0   \n",
              "1                   0                   0                   0   \n",
              "2                   0                   0                   0   \n",
              "\n",
              "   9th Phase JP Nagar  ...  Vishveshwarya Layout  Vishwapriya Layout  \\\n",
              "0                   0  ...                     0                   0   \n",
              "1                   0  ...                     0                   0   \n",
              "2                   0  ...                     0                   0   \n",
              "\n",
              "   Vittasandra  Whitefield  Yelachenahalli  Yelahanka  Yelahanka New Town  \\\n",
              "0            0           0               0          0                   0   \n",
              "1            0           0               0          0                   0   \n",
              "2            0           0               0          0                   0   \n",
              "\n",
              "   Yelenahalli  Yeshwanthpur  other  \n",
              "0            0             0      0  \n",
              "1            0             0      0  \n",
              "2            0             0      0  \n",
              "\n",
              "[3 rows x 241 columns]"
            ],
            "text/html": [
              "\n",
              "  <div id=\"df-3501d26b-e988-4beb-95fd-8a2bd47acad2\">\n",
              "    <div class=\"colab-df-container\">\n",
              "      <div>\n",
              "<style scoped>\n",
              "    .dataframe tbody tr th:only-of-type {\n",
              "        vertical-align: middle;\n",
              "    }\n",
              "\n",
              "    .dataframe tbody tr th {\n",
              "        vertical-align: top;\n",
              "    }\n",
              "\n",
              "    .dataframe thead th {\n",
              "        text-align: right;\n",
              "    }\n",
              "</style>\n",
              "<table border=\"1\" class=\"dataframe\">\n",
              "  <thead>\n",
              "    <tr style=\"text-align: right;\">\n",
              "      <th></th>\n",
              "      <th>1st Block Jayanagar</th>\n",
              "      <th>1st Phase JP Nagar</th>\n",
              "      <th>2nd Phase Judicial Layout</th>\n",
              "      <th>2nd Stage Nagarbhavi</th>\n",
              "      <th>5th Block Hbr Layout</th>\n",
              "      <th>5th Phase JP Nagar</th>\n",
              "      <th>6th Phase JP Nagar</th>\n",
              "      <th>7th Phase JP Nagar</th>\n",
              "      <th>8th Phase JP Nagar</th>\n",
              "      <th>9th Phase JP Nagar</th>\n",
              "      <th>...</th>\n",
              "      <th>Vishveshwarya Layout</th>\n",
              "      <th>Vishwapriya Layout</th>\n",
              "      <th>Vittasandra</th>\n",
              "      <th>Whitefield</th>\n",
              "      <th>Yelachenahalli</th>\n",
              "      <th>Yelahanka</th>\n",
              "      <th>Yelahanka New Town</th>\n",
              "      <th>Yelenahalli</th>\n",
              "      <th>Yeshwanthpur</th>\n",
              "      <th>other</th>\n",
              "    </tr>\n",
              "  </thead>\n",
              "  <tbody>\n",
              "    <tr>\n",
              "      <th>0</th>\n",
              "      <td>1</td>\n",
              "      <td>0</td>\n",
              "      <td>0</td>\n",
              "      <td>0</td>\n",
              "      <td>0</td>\n",
              "      <td>0</td>\n",
              "      <td>0</td>\n",
              "      <td>0</td>\n",
              "      <td>0</td>\n",
              "      <td>0</td>\n",
              "      <td>...</td>\n",
              "      <td>0</td>\n",
              "      <td>0</td>\n",
              "      <td>0</td>\n",
              "      <td>0</td>\n",
              "      <td>0</td>\n",
              "      <td>0</td>\n",
              "      <td>0</td>\n",
              "      <td>0</td>\n",
              "      <td>0</td>\n",
              "      <td>0</td>\n",
              "    </tr>\n",
              "    <tr>\n",
              "      <th>1</th>\n",
              "      <td>1</td>\n",
              "      <td>0</td>\n",
              "      <td>0</td>\n",
              "      <td>0</td>\n",
              "      <td>0</td>\n",
              "      <td>0</td>\n",
              "      <td>0</td>\n",
              "      <td>0</td>\n",
              "      <td>0</td>\n",
              "      <td>0</td>\n",
              "      <td>...</td>\n",
              "      <td>0</td>\n",
              "      <td>0</td>\n",
              "      <td>0</td>\n",
              "      <td>0</td>\n",
              "      <td>0</td>\n",
              "      <td>0</td>\n",
              "      <td>0</td>\n",
              "      <td>0</td>\n",
              "      <td>0</td>\n",
              "      <td>0</td>\n",
              "    </tr>\n",
              "    <tr>\n",
              "      <th>2</th>\n",
              "      <td>1</td>\n",
              "      <td>0</td>\n",
              "      <td>0</td>\n",
              "      <td>0</td>\n",
              "      <td>0</td>\n",
              "      <td>0</td>\n",
              "      <td>0</td>\n",
              "      <td>0</td>\n",
              "      <td>0</td>\n",
              "      <td>0</td>\n",
              "      <td>...</td>\n",
              "      <td>0</td>\n",
              "      <td>0</td>\n",
              "      <td>0</td>\n",
              "      <td>0</td>\n",
              "      <td>0</td>\n",
              "      <td>0</td>\n",
              "      <td>0</td>\n",
              "      <td>0</td>\n",
              "      <td>0</td>\n",
              "      <td>0</td>\n",
              "    </tr>\n",
              "  </tbody>\n",
              "</table>\n",
              "<p>3 rows × 241 columns</p>\n",
              "</div>\n",
              "      <button class=\"colab-df-convert\" onclick=\"convertToInteractive('df-3501d26b-e988-4beb-95fd-8a2bd47acad2')\"\n",
              "              title=\"Convert this dataframe to an interactive table.\"\n",
              "              style=\"display:none;\">\n",
              "        \n",
              "  <svg xmlns=\"http://www.w3.org/2000/svg\" height=\"24px\"viewBox=\"0 0 24 24\"\n",
              "       width=\"24px\">\n",
              "    <path d=\"M0 0h24v24H0V0z\" fill=\"none\"/>\n",
              "    <path d=\"M18.56 5.44l.94 2.06.94-2.06 2.06-.94-2.06-.94-.94-2.06-.94 2.06-2.06.94zm-11 1L8.5 8.5l.94-2.06 2.06-.94-2.06-.94L8.5 2.5l-.94 2.06-2.06.94zm10 10l.94 2.06.94-2.06 2.06-.94-2.06-.94-.94-2.06-.94 2.06-2.06.94z\"/><path d=\"M17.41 7.96l-1.37-1.37c-.4-.4-.92-.59-1.43-.59-.52 0-1.04.2-1.43.59L10.3 9.45l-7.72 7.72c-.78.78-.78 2.05 0 2.83L4 21.41c.39.39.9.59 1.41.59.51 0 1.02-.2 1.41-.59l7.78-7.78 2.81-2.81c.8-.78.8-2.07 0-2.86zM5.41 20L4 18.59l7.72-7.72 1.47 1.35L5.41 20z\"/>\n",
              "  </svg>\n",
              "      </button>\n",
              "      \n",
              "  <style>\n",
              "    .colab-df-container {\n",
              "      display:flex;\n",
              "      flex-wrap:wrap;\n",
              "      gap: 12px;\n",
              "    }\n",
              "\n",
              "    .colab-df-convert {\n",
              "      background-color: #E8F0FE;\n",
              "      border: none;\n",
              "      border-radius: 50%;\n",
              "      cursor: pointer;\n",
              "      display: none;\n",
              "      fill: #1967D2;\n",
              "      height: 32px;\n",
              "      padding: 0 0 0 0;\n",
              "      width: 32px;\n",
              "    }\n",
              "\n",
              "    .colab-df-convert:hover {\n",
              "      background-color: #E2EBFA;\n",
              "      box-shadow: 0px 1px 2px rgba(60, 64, 67, 0.3), 0px 1px 3px 1px rgba(60, 64, 67, 0.15);\n",
              "      fill: #174EA6;\n",
              "    }\n",
              "\n",
              "    [theme=dark] .colab-df-convert {\n",
              "      background-color: #3B4455;\n",
              "      fill: #D2E3FC;\n",
              "    }\n",
              "\n",
              "    [theme=dark] .colab-df-convert:hover {\n",
              "      background-color: #434B5C;\n",
              "      box-shadow: 0px 1px 3px 1px rgba(0, 0, 0, 0.15);\n",
              "      filter: drop-shadow(0px 1px 2px rgba(0, 0, 0, 0.3));\n",
              "      fill: #FFFFFF;\n",
              "    }\n",
              "  </style>\n",
              "\n",
              "      <script>\n",
              "        const buttonEl =\n",
              "          document.querySelector('#df-3501d26b-e988-4beb-95fd-8a2bd47acad2 button.colab-df-convert');\n",
              "        buttonEl.style.display =\n",
              "          google.colab.kernel.accessAllowed ? 'block' : 'none';\n",
              "\n",
              "        async function convertToInteractive(key) {\n",
              "          const element = document.querySelector('#df-3501d26b-e988-4beb-95fd-8a2bd47acad2');\n",
              "          const dataTable =\n",
              "            await google.colab.kernel.invokeFunction('convertToInteractive',\n",
              "                                                     [key], {});\n",
              "          if (!dataTable) return;\n",
              "\n",
              "          const docLinkHtml = 'Like what you see? Visit the ' +\n",
              "            '<a target=\"_blank\" href=https://colab.research.google.com/notebooks/data_table.ipynb>data table notebook</a>'\n",
              "            + ' to learn more about interactive tables.';\n",
              "          element.innerHTML = '';\n",
              "          dataTable['output_type'] = 'display_data';\n",
              "          await google.colab.output.renderOutput(dataTable, element);\n",
              "          const docLink = document.createElement('div');\n",
              "          docLink.innerHTML = docLinkHtml;\n",
              "          element.appendChild(docLink);\n",
              "        }\n",
              "      </script>\n",
              "    </div>\n",
              "  </div>\n",
              "  "
            ]
          },
          "metadata": {},
          "execution_count": 62
        }
      ]
    },
    {
      "cell_type": "code",
      "source": [
        "df11 = pd.concat([df10,dummies.drop('other',axis='columns')],axis='columns')\n",
        "df11.head()"
      ],
      "metadata": {
        "colab": {
          "base_uri": "https://localhost:8080/",
          "height": 438
        },
        "id": "oRTouY3kSQ8T",
        "outputId": "c1d6086c-92bb-459d-b848-c32be823b175"
      },
      "execution_count": 63,
      "outputs": [
        {
          "output_type": "execute_result",
          "data": {
            "text/plain": [
              "              location  total_sqft  bath  price  bhk  1st Block Jayanagar  \\\n",
              "0  1st Block Jayanagar      2850.0   4.0  428.0    4                    1   \n",
              "1  1st Block Jayanagar      1630.0   3.0  194.0    3                    1   \n",
              "2  1st Block Jayanagar      1875.0   2.0  235.0    3                    1   \n",
              "3  1st Block Jayanagar      1200.0   2.0  130.0    3                    1   \n",
              "4  1st Block Jayanagar      1235.0   2.0  148.0    2                    1   \n",
              "\n",
              "   1st Phase JP Nagar  2nd Phase Judicial Layout  2nd Stage Nagarbhavi  \\\n",
              "0                   0                          0                     0   \n",
              "1                   0                          0                     0   \n",
              "2                   0                          0                     0   \n",
              "3                   0                          0                     0   \n",
              "4                   0                          0                     0   \n",
              "\n",
              "   5th Block Hbr Layout  ...  Vijayanagar  Vishveshwarya Layout  \\\n",
              "0                     0  ...            0                     0   \n",
              "1                     0  ...            0                     0   \n",
              "2                     0  ...            0                     0   \n",
              "3                     0  ...            0                     0   \n",
              "4                     0  ...            0                     0   \n",
              "\n",
              "   Vishwapriya Layout  Vittasandra  Whitefield  Yelachenahalli  Yelahanka  \\\n",
              "0                   0            0           0               0          0   \n",
              "1                   0            0           0               0          0   \n",
              "2                   0            0           0               0          0   \n",
              "3                   0            0           0               0          0   \n",
              "4                   0            0           0               0          0   \n",
              "\n",
              "   Yelahanka New Town  Yelenahalli  Yeshwanthpur  \n",
              "0                   0            0             0  \n",
              "1                   0            0             0  \n",
              "2                   0            0             0  \n",
              "3                   0            0             0  \n",
              "4                   0            0             0  \n",
              "\n",
              "[5 rows x 245 columns]"
            ],
            "text/html": [
              "\n",
              "  <div id=\"df-a0797ac3-7ab9-497c-b9e8-dcc40dfa285b\">\n",
              "    <div class=\"colab-df-container\">\n",
              "      <div>\n",
              "<style scoped>\n",
              "    .dataframe tbody tr th:only-of-type {\n",
              "        vertical-align: middle;\n",
              "    }\n",
              "\n",
              "    .dataframe tbody tr th {\n",
              "        vertical-align: top;\n",
              "    }\n",
              "\n",
              "    .dataframe thead th {\n",
              "        text-align: right;\n",
              "    }\n",
              "</style>\n",
              "<table border=\"1\" class=\"dataframe\">\n",
              "  <thead>\n",
              "    <tr style=\"text-align: right;\">\n",
              "      <th></th>\n",
              "      <th>location</th>\n",
              "      <th>total_sqft</th>\n",
              "      <th>bath</th>\n",
              "      <th>price</th>\n",
              "      <th>bhk</th>\n",
              "      <th>1st Block Jayanagar</th>\n",
              "      <th>1st Phase JP Nagar</th>\n",
              "      <th>2nd Phase Judicial Layout</th>\n",
              "      <th>2nd Stage Nagarbhavi</th>\n",
              "      <th>5th Block Hbr Layout</th>\n",
              "      <th>...</th>\n",
              "      <th>Vijayanagar</th>\n",
              "      <th>Vishveshwarya Layout</th>\n",
              "      <th>Vishwapriya Layout</th>\n",
              "      <th>Vittasandra</th>\n",
              "      <th>Whitefield</th>\n",
              "      <th>Yelachenahalli</th>\n",
              "      <th>Yelahanka</th>\n",
              "      <th>Yelahanka New Town</th>\n",
              "      <th>Yelenahalli</th>\n",
              "      <th>Yeshwanthpur</th>\n",
              "    </tr>\n",
              "  </thead>\n",
              "  <tbody>\n",
              "    <tr>\n",
              "      <th>0</th>\n",
              "      <td>1st Block Jayanagar</td>\n",
              "      <td>2850.0</td>\n",
              "      <td>4.0</td>\n",
              "      <td>428.0</td>\n",
              "      <td>4</td>\n",
              "      <td>1</td>\n",
              "      <td>0</td>\n",
              "      <td>0</td>\n",
              "      <td>0</td>\n",
              "      <td>0</td>\n",
              "      <td>...</td>\n",
              "      <td>0</td>\n",
              "      <td>0</td>\n",
              "      <td>0</td>\n",
              "      <td>0</td>\n",
              "      <td>0</td>\n",
              "      <td>0</td>\n",
              "      <td>0</td>\n",
              "      <td>0</td>\n",
              "      <td>0</td>\n",
              "      <td>0</td>\n",
              "    </tr>\n",
              "    <tr>\n",
              "      <th>1</th>\n",
              "      <td>1st Block Jayanagar</td>\n",
              "      <td>1630.0</td>\n",
              "      <td>3.0</td>\n",
              "      <td>194.0</td>\n",
              "      <td>3</td>\n",
              "      <td>1</td>\n",
              "      <td>0</td>\n",
              "      <td>0</td>\n",
              "      <td>0</td>\n",
              "      <td>0</td>\n",
              "      <td>...</td>\n",
              "      <td>0</td>\n",
              "      <td>0</td>\n",
              "      <td>0</td>\n",
              "      <td>0</td>\n",
              "      <td>0</td>\n",
              "      <td>0</td>\n",
              "      <td>0</td>\n",
              "      <td>0</td>\n",
              "      <td>0</td>\n",
              "      <td>0</td>\n",
              "    </tr>\n",
              "    <tr>\n",
              "      <th>2</th>\n",
              "      <td>1st Block Jayanagar</td>\n",
              "      <td>1875.0</td>\n",
              "      <td>2.0</td>\n",
              "      <td>235.0</td>\n",
              "      <td>3</td>\n",
              "      <td>1</td>\n",
              "      <td>0</td>\n",
              "      <td>0</td>\n",
              "      <td>0</td>\n",
              "      <td>0</td>\n",
              "      <td>...</td>\n",
              "      <td>0</td>\n",
              "      <td>0</td>\n",
              "      <td>0</td>\n",
              "      <td>0</td>\n",
              "      <td>0</td>\n",
              "      <td>0</td>\n",
              "      <td>0</td>\n",
              "      <td>0</td>\n",
              "      <td>0</td>\n",
              "      <td>0</td>\n",
              "    </tr>\n",
              "    <tr>\n",
              "      <th>3</th>\n",
              "      <td>1st Block Jayanagar</td>\n",
              "      <td>1200.0</td>\n",
              "      <td>2.0</td>\n",
              "      <td>130.0</td>\n",
              "      <td>3</td>\n",
              "      <td>1</td>\n",
              "      <td>0</td>\n",
              "      <td>0</td>\n",
              "      <td>0</td>\n",
              "      <td>0</td>\n",
              "      <td>...</td>\n",
              "      <td>0</td>\n",
              "      <td>0</td>\n",
              "      <td>0</td>\n",
              "      <td>0</td>\n",
              "      <td>0</td>\n",
              "      <td>0</td>\n",
              "      <td>0</td>\n",
              "      <td>0</td>\n",
              "      <td>0</td>\n",
              "      <td>0</td>\n",
              "    </tr>\n",
              "    <tr>\n",
              "      <th>4</th>\n",
              "      <td>1st Block Jayanagar</td>\n",
              "      <td>1235.0</td>\n",
              "      <td>2.0</td>\n",
              "      <td>148.0</td>\n",
              "      <td>2</td>\n",
              "      <td>1</td>\n",
              "      <td>0</td>\n",
              "      <td>0</td>\n",
              "      <td>0</td>\n",
              "      <td>0</td>\n",
              "      <td>...</td>\n",
              "      <td>0</td>\n",
              "      <td>0</td>\n",
              "      <td>0</td>\n",
              "      <td>0</td>\n",
              "      <td>0</td>\n",
              "      <td>0</td>\n",
              "      <td>0</td>\n",
              "      <td>0</td>\n",
              "      <td>0</td>\n",
              "      <td>0</td>\n",
              "    </tr>\n",
              "  </tbody>\n",
              "</table>\n",
              "<p>5 rows × 245 columns</p>\n",
              "</div>\n",
              "      <button class=\"colab-df-convert\" onclick=\"convertToInteractive('df-a0797ac3-7ab9-497c-b9e8-dcc40dfa285b')\"\n",
              "              title=\"Convert this dataframe to an interactive table.\"\n",
              "              style=\"display:none;\">\n",
              "        \n",
              "  <svg xmlns=\"http://www.w3.org/2000/svg\" height=\"24px\"viewBox=\"0 0 24 24\"\n",
              "       width=\"24px\">\n",
              "    <path d=\"M0 0h24v24H0V0z\" fill=\"none\"/>\n",
              "    <path d=\"M18.56 5.44l.94 2.06.94-2.06 2.06-.94-2.06-.94-.94-2.06-.94 2.06-2.06.94zm-11 1L8.5 8.5l.94-2.06 2.06-.94-2.06-.94L8.5 2.5l-.94 2.06-2.06.94zm10 10l.94 2.06.94-2.06 2.06-.94-2.06-.94-.94-2.06-.94 2.06-2.06.94z\"/><path d=\"M17.41 7.96l-1.37-1.37c-.4-.4-.92-.59-1.43-.59-.52 0-1.04.2-1.43.59L10.3 9.45l-7.72 7.72c-.78.78-.78 2.05 0 2.83L4 21.41c.39.39.9.59 1.41.59.51 0 1.02-.2 1.41-.59l7.78-7.78 2.81-2.81c.8-.78.8-2.07 0-2.86zM5.41 20L4 18.59l7.72-7.72 1.47 1.35L5.41 20z\"/>\n",
              "  </svg>\n",
              "      </button>\n",
              "      \n",
              "  <style>\n",
              "    .colab-df-container {\n",
              "      display:flex;\n",
              "      flex-wrap:wrap;\n",
              "      gap: 12px;\n",
              "    }\n",
              "\n",
              "    .colab-df-convert {\n",
              "      background-color: #E8F0FE;\n",
              "      border: none;\n",
              "      border-radius: 50%;\n",
              "      cursor: pointer;\n",
              "      display: none;\n",
              "      fill: #1967D2;\n",
              "      height: 32px;\n",
              "      padding: 0 0 0 0;\n",
              "      width: 32px;\n",
              "    }\n",
              "\n",
              "    .colab-df-convert:hover {\n",
              "      background-color: #E2EBFA;\n",
              "      box-shadow: 0px 1px 2px rgba(60, 64, 67, 0.3), 0px 1px 3px 1px rgba(60, 64, 67, 0.15);\n",
              "      fill: #174EA6;\n",
              "    }\n",
              "\n",
              "    [theme=dark] .colab-df-convert {\n",
              "      background-color: #3B4455;\n",
              "      fill: #D2E3FC;\n",
              "    }\n",
              "\n",
              "    [theme=dark] .colab-df-convert:hover {\n",
              "      background-color: #434B5C;\n",
              "      box-shadow: 0px 1px 3px 1px rgba(0, 0, 0, 0.15);\n",
              "      filter: drop-shadow(0px 1px 2px rgba(0, 0, 0, 0.3));\n",
              "      fill: #FFFFFF;\n",
              "    }\n",
              "  </style>\n",
              "\n",
              "      <script>\n",
              "        const buttonEl =\n",
              "          document.querySelector('#df-a0797ac3-7ab9-497c-b9e8-dcc40dfa285b button.colab-df-convert');\n",
              "        buttonEl.style.display =\n",
              "          google.colab.kernel.accessAllowed ? 'block' : 'none';\n",
              "\n",
              "        async function convertToInteractive(key) {\n",
              "          const element = document.querySelector('#df-a0797ac3-7ab9-497c-b9e8-dcc40dfa285b');\n",
              "          const dataTable =\n",
              "            await google.colab.kernel.invokeFunction('convertToInteractive',\n",
              "                                                     [key], {});\n",
              "          if (!dataTable) return;\n",
              "\n",
              "          const docLinkHtml = 'Like what you see? Visit the ' +\n",
              "            '<a target=\"_blank\" href=https://colab.research.google.com/notebooks/data_table.ipynb>data table notebook</a>'\n",
              "            + ' to learn more about interactive tables.';\n",
              "          element.innerHTML = '';\n",
              "          dataTable['output_type'] = 'display_data';\n",
              "          await google.colab.output.renderOutput(dataTable, element);\n",
              "          const docLink = document.createElement('div');\n",
              "          docLink.innerHTML = docLinkHtml;\n",
              "          element.appendChild(docLink);\n",
              "        }\n",
              "      </script>\n",
              "    </div>\n",
              "  </div>\n",
              "  "
            ]
          },
          "metadata": {},
          "execution_count": 63
        }
      ]
    },
    {
      "cell_type": "code",
      "source": [
        "df12 = df11.drop('location',axis='columns')\n",
        "df12.head(2)"
      ],
      "metadata": {
        "colab": {
          "base_uri": "https://localhost:8080/",
          "height": 257
        },
        "id": "UzOSvEgkSS74",
        "outputId": "0b1e0a53-b1bc-4a18-dcbd-ccd66eedf241"
      },
      "execution_count": 64,
      "outputs": [
        {
          "output_type": "execute_result",
          "data": {
            "text/plain": [
              "   total_sqft  bath  price  bhk  1st Block Jayanagar  1st Phase JP Nagar  \\\n",
              "0      2850.0   4.0  428.0    4                    1                   0   \n",
              "1      1630.0   3.0  194.0    3                    1                   0   \n",
              "\n",
              "   2nd Phase Judicial Layout  2nd Stage Nagarbhavi  5th Block Hbr Layout  \\\n",
              "0                          0                     0                     0   \n",
              "1                          0                     0                     0   \n",
              "\n",
              "   5th Phase JP Nagar  ...  Vijayanagar  Vishveshwarya Layout  \\\n",
              "0                   0  ...            0                     0   \n",
              "1                   0  ...            0                     0   \n",
              "\n",
              "   Vishwapriya Layout  Vittasandra  Whitefield  Yelachenahalli  Yelahanka  \\\n",
              "0                   0            0           0               0          0   \n",
              "1                   0            0           0               0          0   \n",
              "\n",
              "   Yelahanka New Town  Yelenahalli  Yeshwanthpur  \n",
              "0                   0            0             0  \n",
              "1                   0            0             0  \n",
              "\n",
              "[2 rows x 244 columns]"
            ],
            "text/html": [
              "\n",
              "  <div id=\"df-b13e47da-2514-45ed-b73c-ecee1e889552\">\n",
              "    <div class=\"colab-df-container\">\n",
              "      <div>\n",
              "<style scoped>\n",
              "    .dataframe tbody tr th:only-of-type {\n",
              "        vertical-align: middle;\n",
              "    }\n",
              "\n",
              "    .dataframe tbody tr th {\n",
              "        vertical-align: top;\n",
              "    }\n",
              "\n",
              "    .dataframe thead th {\n",
              "        text-align: right;\n",
              "    }\n",
              "</style>\n",
              "<table border=\"1\" class=\"dataframe\">\n",
              "  <thead>\n",
              "    <tr style=\"text-align: right;\">\n",
              "      <th></th>\n",
              "      <th>total_sqft</th>\n",
              "      <th>bath</th>\n",
              "      <th>price</th>\n",
              "      <th>bhk</th>\n",
              "      <th>1st Block Jayanagar</th>\n",
              "      <th>1st Phase JP Nagar</th>\n",
              "      <th>2nd Phase Judicial Layout</th>\n",
              "      <th>2nd Stage Nagarbhavi</th>\n",
              "      <th>5th Block Hbr Layout</th>\n",
              "      <th>5th Phase JP Nagar</th>\n",
              "      <th>...</th>\n",
              "      <th>Vijayanagar</th>\n",
              "      <th>Vishveshwarya Layout</th>\n",
              "      <th>Vishwapriya Layout</th>\n",
              "      <th>Vittasandra</th>\n",
              "      <th>Whitefield</th>\n",
              "      <th>Yelachenahalli</th>\n",
              "      <th>Yelahanka</th>\n",
              "      <th>Yelahanka New Town</th>\n",
              "      <th>Yelenahalli</th>\n",
              "      <th>Yeshwanthpur</th>\n",
              "    </tr>\n",
              "  </thead>\n",
              "  <tbody>\n",
              "    <tr>\n",
              "      <th>0</th>\n",
              "      <td>2850.0</td>\n",
              "      <td>4.0</td>\n",
              "      <td>428.0</td>\n",
              "      <td>4</td>\n",
              "      <td>1</td>\n",
              "      <td>0</td>\n",
              "      <td>0</td>\n",
              "      <td>0</td>\n",
              "      <td>0</td>\n",
              "      <td>0</td>\n",
              "      <td>...</td>\n",
              "      <td>0</td>\n",
              "      <td>0</td>\n",
              "      <td>0</td>\n",
              "      <td>0</td>\n",
              "      <td>0</td>\n",
              "      <td>0</td>\n",
              "      <td>0</td>\n",
              "      <td>0</td>\n",
              "      <td>0</td>\n",
              "      <td>0</td>\n",
              "    </tr>\n",
              "    <tr>\n",
              "      <th>1</th>\n",
              "      <td>1630.0</td>\n",
              "      <td>3.0</td>\n",
              "      <td>194.0</td>\n",
              "      <td>3</td>\n",
              "      <td>1</td>\n",
              "      <td>0</td>\n",
              "      <td>0</td>\n",
              "      <td>0</td>\n",
              "      <td>0</td>\n",
              "      <td>0</td>\n",
              "      <td>...</td>\n",
              "      <td>0</td>\n",
              "      <td>0</td>\n",
              "      <td>0</td>\n",
              "      <td>0</td>\n",
              "      <td>0</td>\n",
              "      <td>0</td>\n",
              "      <td>0</td>\n",
              "      <td>0</td>\n",
              "      <td>0</td>\n",
              "      <td>0</td>\n",
              "    </tr>\n",
              "  </tbody>\n",
              "</table>\n",
              "<p>2 rows × 244 columns</p>\n",
              "</div>\n",
              "      <button class=\"colab-df-convert\" onclick=\"convertToInteractive('df-b13e47da-2514-45ed-b73c-ecee1e889552')\"\n",
              "              title=\"Convert this dataframe to an interactive table.\"\n",
              "              style=\"display:none;\">\n",
              "        \n",
              "  <svg xmlns=\"http://www.w3.org/2000/svg\" height=\"24px\"viewBox=\"0 0 24 24\"\n",
              "       width=\"24px\">\n",
              "    <path d=\"M0 0h24v24H0V0z\" fill=\"none\"/>\n",
              "    <path d=\"M18.56 5.44l.94 2.06.94-2.06 2.06-.94-2.06-.94-.94-2.06-.94 2.06-2.06.94zm-11 1L8.5 8.5l.94-2.06 2.06-.94-2.06-.94L8.5 2.5l-.94 2.06-2.06.94zm10 10l.94 2.06.94-2.06 2.06-.94-2.06-.94-.94-2.06-.94 2.06-2.06.94z\"/><path d=\"M17.41 7.96l-1.37-1.37c-.4-.4-.92-.59-1.43-.59-.52 0-1.04.2-1.43.59L10.3 9.45l-7.72 7.72c-.78.78-.78 2.05 0 2.83L4 21.41c.39.39.9.59 1.41.59.51 0 1.02-.2 1.41-.59l7.78-7.78 2.81-2.81c.8-.78.8-2.07 0-2.86zM5.41 20L4 18.59l7.72-7.72 1.47 1.35L5.41 20z\"/>\n",
              "  </svg>\n",
              "      </button>\n",
              "      \n",
              "  <style>\n",
              "    .colab-df-container {\n",
              "      display:flex;\n",
              "      flex-wrap:wrap;\n",
              "      gap: 12px;\n",
              "    }\n",
              "\n",
              "    .colab-df-convert {\n",
              "      background-color: #E8F0FE;\n",
              "      border: none;\n",
              "      border-radius: 50%;\n",
              "      cursor: pointer;\n",
              "      display: none;\n",
              "      fill: #1967D2;\n",
              "      height: 32px;\n",
              "      padding: 0 0 0 0;\n",
              "      width: 32px;\n",
              "    }\n",
              "\n",
              "    .colab-df-convert:hover {\n",
              "      background-color: #E2EBFA;\n",
              "      box-shadow: 0px 1px 2px rgba(60, 64, 67, 0.3), 0px 1px 3px 1px rgba(60, 64, 67, 0.15);\n",
              "      fill: #174EA6;\n",
              "    }\n",
              "\n",
              "    [theme=dark] .colab-df-convert {\n",
              "      background-color: #3B4455;\n",
              "      fill: #D2E3FC;\n",
              "    }\n",
              "\n",
              "    [theme=dark] .colab-df-convert:hover {\n",
              "      background-color: #434B5C;\n",
              "      box-shadow: 0px 1px 3px 1px rgba(0, 0, 0, 0.15);\n",
              "      filter: drop-shadow(0px 1px 2px rgba(0, 0, 0, 0.3));\n",
              "      fill: #FFFFFF;\n",
              "    }\n",
              "  </style>\n",
              "\n",
              "      <script>\n",
              "        const buttonEl =\n",
              "          document.querySelector('#df-b13e47da-2514-45ed-b73c-ecee1e889552 button.colab-df-convert');\n",
              "        buttonEl.style.display =\n",
              "          google.colab.kernel.accessAllowed ? 'block' : 'none';\n",
              "\n",
              "        async function convertToInteractive(key) {\n",
              "          const element = document.querySelector('#df-b13e47da-2514-45ed-b73c-ecee1e889552');\n",
              "          const dataTable =\n",
              "            await google.colab.kernel.invokeFunction('convertToInteractive',\n",
              "                                                     [key], {});\n",
              "          if (!dataTable) return;\n",
              "\n",
              "          const docLinkHtml = 'Like what you see? Visit the ' +\n",
              "            '<a target=\"_blank\" href=https://colab.research.google.com/notebooks/data_table.ipynb>data table notebook</a>'\n",
              "            + ' to learn more about interactive tables.';\n",
              "          element.innerHTML = '';\n",
              "          dataTable['output_type'] = 'display_data';\n",
              "          await google.colab.output.renderOutput(dataTable, element);\n",
              "          const docLink = document.createElement('div');\n",
              "          docLink.innerHTML = docLinkHtml;\n",
              "          element.appendChild(docLink);\n",
              "        }\n",
              "      </script>\n",
              "    </div>\n",
              "  </div>\n",
              "  "
            ]
          },
          "metadata": {},
          "execution_count": 64
        }
      ]
    },
    {
      "cell_type": "markdown",
      "source": [
        "# BUILDING MODEL"
      ],
      "metadata": {
        "id": "cq2NK9alSeZp"
      }
    },
    {
      "cell_type": "code",
      "source": [
        "df12.shape"
      ],
      "metadata": {
        "colab": {
          "base_uri": "https://localhost:8080/"
        },
        "id": "IA22Tk2ZSaue",
        "outputId": "3bd40293-ac3a-444c-8ac2-45f0d313a02c"
      },
      "execution_count": 65,
      "outputs": [
        {
          "output_type": "execute_result",
          "data": {
            "text/plain": [
              "(7239, 244)"
            ]
          },
          "metadata": {},
          "execution_count": 65
        }
      ]
    },
    {
      "cell_type": "code",
      "source": [
        "X = df12.drop(['price'],axis='columns')\n",
        "X.head(3)"
      ],
      "metadata": {
        "colab": {
          "base_uri": "https://localhost:8080/",
          "height": 289
        },
        "id": "_qlgtmgYSjEX",
        "outputId": "965162b6-36ff-418e-93c2-aff9f23d9e58"
      },
      "execution_count": 66,
      "outputs": [
        {
          "output_type": "execute_result",
          "data": {
            "text/plain": [
              "   total_sqft  bath  bhk  1st Block Jayanagar  1st Phase JP Nagar  \\\n",
              "0      2850.0   4.0    4                    1                   0   \n",
              "1      1630.0   3.0    3                    1                   0   \n",
              "2      1875.0   2.0    3                    1                   0   \n",
              "\n",
              "   2nd Phase Judicial Layout  2nd Stage Nagarbhavi  5th Block Hbr Layout  \\\n",
              "0                          0                     0                     0   \n",
              "1                          0                     0                     0   \n",
              "2                          0                     0                     0   \n",
              "\n",
              "   5th Phase JP Nagar  6th Phase JP Nagar  ...  Vijayanagar  \\\n",
              "0                   0                   0  ...            0   \n",
              "1                   0                   0  ...            0   \n",
              "2                   0                   0  ...            0   \n",
              "\n",
              "   Vishveshwarya Layout  Vishwapriya Layout  Vittasandra  Whitefield  \\\n",
              "0                     0                   0            0           0   \n",
              "1                     0                   0            0           0   \n",
              "2                     0                   0            0           0   \n",
              "\n",
              "   Yelachenahalli  Yelahanka  Yelahanka New Town  Yelenahalli  Yeshwanthpur  \n",
              "0               0          0                   0            0             0  \n",
              "1               0          0                   0            0             0  \n",
              "2               0          0                   0            0             0  \n",
              "\n",
              "[3 rows x 243 columns]"
            ],
            "text/html": [
              "\n",
              "  <div id=\"df-ad5f17f8-134b-4751-b418-23b16851f677\">\n",
              "    <div class=\"colab-df-container\">\n",
              "      <div>\n",
              "<style scoped>\n",
              "    .dataframe tbody tr th:only-of-type {\n",
              "        vertical-align: middle;\n",
              "    }\n",
              "\n",
              "    .dataframe tbody tr th {\n",
              "        vertical-align: top;\n",
              "    }\n",
              "\n",
              "    .dataframe thead th {\n",
              "        text-align: right;\n",
              "    }\n",
              "</style>\n",
              "<table border=\"1\" class=\"dataframe\">\n",
              "  <thead>\n",
              "    <tr style=\"text-align: right;\">\n",
              "      <th></th>\n",
              "      <th>total_sqft</th>\n",
              "      <th>bath</th>\n",
              "      <th>bhk</th>\n",
              "      <th>1st Block Jayanagar</th>\n",
              "      <th>1st Phase JP Nagar</th>\n",
              "      <th>2nd Phase Judicial Layout</th>\n",
              "      <th>2nd Stage Nagarbhavi</th>\n",
              "      <th>5th Block Hbr Layout</th>\n",
              "      <th>5th Phase JP Nagar</th>\n",
              "      <th>6th Phase JP Nagar</th>\n",
              "      <th>...</th>\n",
              "      <th>Vijayanagar</th>\n",
              "      <th>Vishveshwarya Layout</th>\n",
              "      <th>Vishwapriya Layout</th>\n",
              "      <th>Vittasandra</th>\n",
              "      <th>Whitefield</th>\n",
              "      <th>Yelachenahalli</th>\n",
              "      <th>Yelahanka</th>\n",
              "      <th>Yelahanka New Town</th>\n",
              "      <th>Yelenahalli</th>\n",
              "      <th>Yeshwanthpur</th>\n",
              "    </tr>\n",
              "  </thead>\n",
              "  <tbody>\n",
              "    <tr>\n",
              "      <th>0</th>\n",
              "      <td>2850.0</td>\n",
              "      <td>4.0</td>\n",
              "      <td>4</td>\n",
              "      <td>1</td>\n",
              "      <td>0</td>\n",
              "      <td>0</td>\n",
              "      <td>0</td>\n",
              "      <td>0</td>\n",
              "      <td>0</td>\n",
              "      <td>0</td>\n",
              "      <td>...</td>\n",
              "      <td>0</td>\n",
              "      <td>0</td>\n",
              "      <td>0</td>\n",
              "      <td>0</td>\n",
              "      <td>0</td>\n",
              "      <td>0</td>\n",
              "      <td>0</td>\n",
              "      <td>0</td>\n",
              "      <td>0</td>\n",
              "      <td>0</td>\n",
              "    </tr>\n",
              "    <tr>\n",
              "      <th>1</th>\n",
              "      <td>1630.0</td>\n",
              "      <td>3.0</td>\n",
              "      <td>3</td>\n",
              "      <td>1</td>\n",
              "      <td>0</td>\n",
              "      <td>0</td>\n",
              "      <td>0</td>\n",
              "      <td>0</td>\n",
              "      <td>0</td>\n",
              "      <td>0</td>\n",
              "      <td>...</td>\n",
              "      <td>0</td>\n",
              "      <td>0</td>\n",
              "      <td>0</td>\n",
              "      <td>0</td>\n",
              "      <td>0</td>\n",
              "      <td>0</td>\n",
              "      <td>0</td>\n",
              "      <td>0</td>\n",
              "      <td>0</td>\n",
              "      <td>0</td>\n",
              "    </tr>\n",
              "    <tr>\n",
              "      <th>2</th>\n",
              "      <td>1875.0</td>\n",
              "      <td>2.0</td>\n",
              "      <td>3</td>\n",
              "      <td>1</td>\n",
              "      <td>0</td>\n",
              "      <td>0</td>\n",
              "      <td>0</td>\n",
              "      <td>0</td>\n",
              "      <td>0</td>\n",
              "      <td>0</td>\n",
              "      <td>...</td>\n",
              "      <td>0</td>\n",
              "      <td>0</td>\n",
              "      <td>0</td>\n",
              "      <td>0</td>\n",
              "      <td>0</td>\n",
              "      <td>0</td>\n",
              "      <td>0</td>\n",
              "      <td>0</td>\n",
              "      <td>0</td>\n",
              "      <td>0</td>\n",
              "    </tr>\n",
              "  </tbody>\n",
              "</table>\n",
              "<p>3 rows × 243 columns</p>\n",
              "</div>\n",
              "      <button class=\"colab-df-convert\" onclick=\"convertToInteractive('df-ad5f17f8-134b-4751-b418-23b16851f677')\"\n",
              "              title=\"Convert this dataframe to an interactive table.\"\n",
              "              style=\"display:none;\">\n",
              "        \n",
              "  <svg xmlns=\"http://www.w3.org/2000/svg\" height=\"24px\"viewBox=\"0 0 24 24\"\n",
              "       width=\"24px\">\n",
              "    <path d=\"M0 0h24v24H0V0z\" fill=\"none\"/>\n",
              "    <path d=\"M18.56 5.44l.94 2.06.94-2.06 2.06-.94-2.06-.94-.94-2.06-.94 2.06-2.06.94zm-11 1L8.5 8.5l.94-2.06 2.06-.94-2.06-.94L8.5 2.5l-.94 2.06-2.06.94zm10 10l.94 2.06.94-2.06 2.06-.94-2.06-.94-.94-2.06-.94 2.06-2.06.94z\"/><path d=\"M17.41 7.96l-1.37-1.37c-.4-.4-.92-.59-1.43-.59-.52 0-1.04.2-1.43.59L10.3 9.45l-7.72 7.72c-.78.78-.78 2.05 0 2.83L4 21.41c.39.39.9.59 1.41.59.51 0 1.02-.2 1.41-.59l7.78-7.78 2.81-2.81c.8-.78.8-2.07 0-2.86zM5.41 20L4 18.59l7.72-7.72 1.47 1.35L5.41 20z\"/>\n",
              "  </svg>\n",
              "      </button>\n",
              "      \n",
              "  <style>\n",
              "    .colab-df-container {\n",
              "      display:flex;\n",
              "      flex-wrap:wrap;\n",
              "      gap: 12px;\n",
              "    }\n",
              "\n",
              "    .colab-df-convert {\n",
              "      background-color: #E8F0FE;\n",
              "      border: none;\n",
              "      border-radius: 50%;\n",
              "      cursor: pointer;\n",
              "      display: none;\n",
              "      fill: #1967D2;\n",
              "      height: 32px;\n",
              "      padding: 0 0 0 0;\n",
              "      width: 32px;\n",
              "    }\n",
              "\n",
              "    .colab-df-convert:hover {\n",
              "      background-color: #E2EBFA;\n",
              "      box-shadow: 0px 1px 2px rgba(60, 64, 67, 0.3), 0px 1px 3px 1px rgba(60, 64, 67, 0.15);\n",
              "      fill: #174EA6;\n",
              "    }\n",
              "\n",
              "    [theme=dark] .colab-df-convert {\n",
              "      background-color: #3B4455;\n",
              "      fill: #D2E3FC;\n",
              "    }\n",
              "\n",
              "    [theme=dark] .colab-df-convert:hover {\n",
              "      background-color: #434B5C;\n",
              "      box-shadow: 0px 1px 3px 1px rgba(0, 0, 0, 0.15);\n",
              "      filter: drop-shadow(0px 1px 2px rgba(0, 0, 0, 0.3));\n",
              "      fill: #FFFFFF;\n",
              "    }\n",
              "  </style>\n",
              "\n",
              "      <script>\n",
              "        const buttonEl =\n",
              "          document.querySelector('#df-ad5f17f8-134b-4751-b418-23b16851f677 button.colab-df-convert');\n",
              "        buttonEl.style.display =\n",
              "          google.colab.kernel.accessAllowed ? 'block' : 'none';\n",
              "\n",
              "        async function convertToInteractive(key) {\n",
              "          const element = document.querySelector('#df-ad5f17f8-134b-4751-b418-23b16851f677');\n",
              "          const dataTable =\n",
              "            await google.colab.kernel.invokeFunction('convertToInteractive',\n",
              "                                                     [key], {});\n",
              "          if (!dataTable) return;\n",
              "\n",
              "          const docLinkHtml = 'Like what you see? Visit the ' +\n",
              "            '<a target=\"_blank\" href=https://colab.research.google.com/notebooks/data_table.ipynb>data table notebook</a>'\n",
              "            + ' to learn more about interactive tables.';\n",
              "          element.innerHTML = '';\n",
              "          dataTable['output_type'] = 'display_data';\n",
              "          await google.colab.output.renderOutput(dataTable, element);\n",
              "          const docLink = document.createElement('div');\n",
              "          docLink.innerHTML = docLinkHtml;\n",
              "          element.appendChild(docLink);\n",
              "        }\n",
              "      </script>\n",
              "    </div>\n",
              "  </div>\n",
              "  "
            ]
          },
          "metadata": {},
          "execution_count": 66
        }
      ]
    },
    {
      "cell_type": "code",
      "source": [
        "X.shape"
      ],
      "metadata": {
        "colab": {
          "base_uri": "https://localhost:8080/"
        },
        "id": "F84-F8KMSmTQ",
        "outputId": "931fda29-8391-43c5-8060-3edc5fd6ad05"
      },
      "execution_count": 67,
      "outputs": [
        {
          "output_type": "execute_result",
          "data": {
            "text/plain": [
              "(7239, 243)"
            ]
          },
          "metadata": {},
          "execution_count": 67
        }
      ]
    },
    {
      "cell_type": "code",
      "source": [
        "y = df12.price\n",
        "y.head(3)"
      ],
      "metadata": {
        "colab": {
          "base_uri": "https://localhost:8080/"
        },
        "id": "Uv3_1iPtSoYf",
        "outputId": "db116ab1-eb1d-40c6-b793-48451c563cfa"
      },
      "execution_count": 68,
      "outputs": [
        {
          "output_type": "execute_result",
          "data": {
            "text/plain": [
              "0    428.0\n",
              "1    194.0\n",
              "2    235.0\n",
              "Name: price, dtype: float64"
            ]
          },
          "metadata": {},
          "execution_count": 68
        }
      ]
    },
    {
      "cell_type": "code",
      "source": [
        "from sklearn.model_selection import train_test_split\n",
        "X_train, X_test, y_train, y_test = train_test_split(X,y,test_size=0.2,random_state=10)"
      ],
      "metadata": {
        "id": "-RVllnKmSqi5"
      },
      "execution_count": 69,
      "outputs": []
    },
    {
      "cell_type": "code",
      "source": [
        "from sklearn.linear_model import LinearRegression\n",
        "lr_clf = LinearRegression()\n",
        "lr_clf.fit(X_train,y_train)\n",
        "lr_clf.score(X_test,y_test)"
      ],
      "metadata": {
        "colab": {
          "base_uri": "https://localhost:8080/"
        },
        "id": "8yXGW-PGSuSP",
        "outputId": "4c7bb8e7-6f3d-44b9-ddc2-b51d716012c4"
      },
      "execution_count": 70,
      "outputs": [
        {
          "output_type": "execute_result",
          "data": {
            "text/plain": [
              "0.8629132245229447"
            ]
          },
          "metadata": {},
          "execution_count": 70
        }
      ]
    },
    {
      "cell_type": "markdown",
      "source": [
        "**Using K Fold cross validation to measure accuracy of our LinearRegression model**"
      ],
      "metadata": {
        "id": "IKGaYjhrS14V"
      }
    },
    {
      "cell_type": "code",
      "source": [
        "from sklearn.model_selection import ShuffleSplit\n",
        "from sklearn.model_selection import cross_val_score\n",
        "\n",
        "cv = ShuffleSplit(n_splits=5, test_size=0.2, random_state=0)\n",
        "\n",
        "cross_val_score(LinearRegression(), X, y, cv=cv)"
      ],
      "metadata": {
        "colab": {
          "base_uri": "https://localhost:8080/"
        },
        "id": "Ds4B9gRQSxxV",
        "outputId": "cd254159-3c9e-4f3f-e74f-87f95e8cadca"
      },
      "execution_count": 71,
      "outputs": [
        {
          "output_type": "execute_result",
          "data": {
            "text/plain": [
              "array([0.82702546, 0.86027005, 0.85322178, 0.8436466 , 0.85481502])"
            ]
          },
          "metadata": {},
          "execution_count": 71
        }
      ]
    },
    {
      "cell_type": "markdown",
      "source": [
        "**We can see that in 5 iterations we get a score above 80% all the time. This is pretty good but we want to test few other algorithms for regression to see if we can get even better score. We will use GridSearchCV for this purpose**"
      ],
      "metadata": {
        "id": "dEL7ORmGTCRf"
      }
    },
    {
      "cell_type": "code",
      "source": [
        "from sklearn.model_selection import GridSearchCV\n",
        "\n",
        "from sklearn.linear_model import Lasso\n",
        "from sklearn.tree import DecisionTreeRegressor\n",
        "\n",
        "def find_best_model_using_gridsearchcv(X,y):\n",
        "    algos = {\n",
        "        'linear_regression' : {\n",
        "            'model': LinearRegression(),\n",
        "            'params': {\n",
        "                'normalize': [True, False]\n",
        "            }\n",
        "        },\n",
        "        'lasso': {\n",
        "            'model': Lasso(),\n",
        "            'params': {\n",
        "                'alpha': [1,2],\n",
        "                'selection': ['random', 'cyclic']\n",
        "            }\n",
        "        },\n",
        "        'decision_tree': {\n",
        "            'model': DecisionTreeRegressor(),\n",
        "            'params': {\n",
        "                'criterion' : ['mse','friedman_mse'],\n",
        "                'splitter': ['best','random']\n",
        "            }\n",
        "        }\n",
        "    }\n",
        "    scores = []\n",
        "    cv = ShuffleSplit(n_splits=5, test_size=0.2, random_state=0)\n",
        "    for algo_name, config in algos.items():\n",
        "        gs =  GridSearchCV(config['model'], config['params'], cv=cv, return_train_score=False)\n",
        "        gs.fit(X,y)\n",
        "        scores.append({\n",
        "            'model': algo_name,\n",
        "            'best_score': gs.best_score_,\n",
        "            'best_params': gs.best_params_\n",
        "        })\n",
        "\n",
        "    return pd.DataFrame(scores,columns=['model','best_score','best_params'])\n",
        "\n",
        "find_best_model_using_gridsearchcv(X,y)"
      ],
      "metadata": {
        "colab": {
          "base_uri": "https://localhost:8080/",
          "height": 1000
        },
        "id": "aGSwh0NVS6of",
        "outputId": "ba0f3084-b0a8-4844-c840-b1a1d4947550"
      },
      "execution_count": 72,
      "outputs": [
        {
          "output_type": "stream",
          "name": "stderr",
          "text": [
            "/usr/local/lib/python3.7/dist-packages/sklearn/linear_model/_base.py:145: FutureWarning: 'normalize' was deprecated in version 1.0 and will be removed in 1.2.\n",
            "If you wish to scale the data, use Pipeline with a StandardScaler in a preprocessing stage. To reproduce the previous behavior:\n",
            "\n",
            "from sklearn.pipeline import make_pipeline\n",
            "\n",
            "model = make_pipeline(StandardScaler(with_mean=False), LinearRegression())\n",
            "\n",
            "If you wish to pass a sample_weight parameter, you need to pass it as a fit parameter to each step of the pipeline as follows:\n",
            "\n",
            "kwargs = {s[0] + '__sample_weight': sample_weight for s in model.steps}\n",
            "model.fit(X, y, **kwargs)\n",
            "\n",
            "\n",
            "  FutureWarning,\n",
            "/usr/local/lib/python3.7/dist-packages/sklearn/linear_model/_base.py:145: FutureWarning: 'normalize' was deprecated in version 1.0 and will be removed in 1.2.\n",
            "If you wish to scale the data, use Pipeline with a StandardScaler in a preprocessing stage. To reproduce the previous behavior:\n",
            "\n",
            "from sklearn.pipeline import make_pipeline\n",
            "\n",
            "model = make_pipeline(StandardScaler(with_mean=False), LinearRegression())\n",
            "\n",
            "If you wish to pass a sample_weight parameter, you need to pass it as a fit parameter to each step of the pipeline as follows:\n",
            "\n",
            "kwargs = {s[0] + '__sample_weight': sample_weight for s in model.steps}\n",
            "model.fit(X, y, **kwargs)\n",
            "\n",
            "\n",
            "  FutureWarning,\n",
            "/usr/local/lib/python3.7/dist-packages/sklearn/linear_model/_base.py:145: FutureWarning: 'normalize' was deprecated in version 1.0 and will be removed in 1.2.\n",
            "If you wish to scale the data, use Pipeline with a StandardScaler in a preprocessing stage. To reproduce the previous behavior:\n",
            "\n",
            "from sklearn.pipeline import make_pipeline\n",
            "\n",
            "model = make_pipeline(StandardScaler(with_mean=False), LinearRegression())\n",
            "\n",
            "If you wish to pass a sample_weight parameter, you need to pass it as a fit parameter to each step of the pipeline as follows:\n",
            "\n",
            "kwargs = {s[0] + '__sample_weight': sample_weight for s in model.steps}\n",
            "model.fit(X, y, **kwargs)\n",
            "\n",
            "\n",
            "  FutureWarning,\n",
            "/usr/local/lib/python3.7/dist-packages/sklearn/linear_model/_base.py:145: FutureWarning: 'normalize' was deprecated in version 1.0 and will be removed in 1.2.\n",
            "If you wish to scale the data, use Pipeline with a StandardScaler in a preprocessing stage. To reproduce the previous behavior:\n",
            "\n",
            "from sklearn.pipeline import make_pipeline\n",
            "\n",
            "model = make_pipeline(StandardScaler(with_mean=False), LinearRegression())\n",
            "\n",
            "If you wish to pass a sample_weight parameter, you need to pass it as a fit parameter to each step of the pipeline as follows:\n",
            "\n",
            "kwargs = {s[0] + '__sample_weight': sample_weight for s in model.steps}\n",
            "model.fit(X, y, **kwargs)\n",
            "\n",
            "\n",
            "  FutureWarning,\n",
            "/usr/local/lib/python3.7/dist-packages/sklearn/linear_model/_base.py:145: FutureWarning: 'normalize' was deprecated in version 1.0 and will be removed in 1.2.\n",
            "If you wish to scale the data, use Pipeline with a StandardScaler in a preprocessing stage. To reproduce the previous behavior:\n",
            "\n",
            "from sklearn.pipeline import make_pipeline\n",
            "\n",
            "model = make_pipeline(StandardScaler(with_mean=False), LinearRegression())\n",
            "\n",
            "If you wish to pass a sample_weight parameter, you need to pass it as a fit parameter to each step of the pipeline as follows:\n",
            "\n",
            "kwargs = {s[0] + '__sample_weight': sample_weight for s in model.steps}\n",
            "model.fit(X, y, **kwargs)\n",
            "\n",
            "\n",
            "  FutureWarning,\n",
            "/usr/local/lib/python3.7/dist-packages/sklearn/linear_model/_base.py:155: FutureWarning: 'normalize' was deprecated in version 1.0 and will be removed in 1.2. Please leave the normalize parameter to its default value to silence this warning. The default behavior of this estimator is to not do any normalization. If normalization is needed please use sklearn.preprocessing.StandardScaler instead.\n",
            "  FutureWarning,\n",
            "/usr/local/lib/python3.7/dist-packages/sklearn/linear_model/_base.py:155: FutureWarning: 'normalize' was deprecated in version 1.0 and will be removed in 1.2. Please leave the normalize parameter to its default value to silence this warning. The default behavior of this estimator is to not do any normalization. If normalization is needed please use sklearn.preprocessing.StandardScaler instead.\n",
            "  FutureWarning,\n",
            "/usr/local/lib/python3.7/dist-packages/sklearn/linear_model/_base.py:155: FutureWarning: 'normalize' was deprecated in version 1.0 and will be removed in 1.2. Please leave the normalize parameter to its default value to silence this warning. The default behavior of this estimator is to not do any normalization. If normalization is needed please use sklearn.preprocessing.StandardScaler instead.\n",
            "  FutureWarning,\n",
            "/usr/local/lib/python3.7/dist-packages/sklearn/linear_model/_base.py:155: FutureWarning: 'normalize' was deprecated in version 1.0 and will be removed in 1.2. Please leave the normalize parameter to its default value to silence this warning. The default behavior of this estimator is to not do any normalization. If normalization is needed please use sklearn.preprocessing.StandardScaler instead.\n",
            "  FutureWarning,\n",
            "/usr/local/lib/python3.7/dist-packages/sklearn/linear_model/_base.py:155: FutureWarning: 'normalize' was deprecated in version 1.0 and will be removed in 1.2. Please leave the normalize parameter to its default value to silence this warning. The default behavior of this estimator is to not do any normalization. If normalization is needed please use sklearn.preprocessing.StandardScaler instead.\n",
            "  FutureWarning,\n",
            "/usr/local/lib/python3.7/dist-packages/sklearn/linear_model/_base.py:155: FutureWarning: 'normalize' was deprecated in version 1.0 and will be removed in 1.2. Please leave the normalize parameter to its default value to silence this warning. The default behavior of this estimator is to not do any normalization. If normalization is needed please use sklearn.preprocessing.StandardScaler instead.\n",
            "  FutureWarning,\n",
            "/usr/local/lib/python3.7/dist-packages/sklearn/tree/_classes.py:363: FutureWarning: Criterion 'mse' was deprecated in v1.0 and will be removed in version 1.2. Use `criterion='squared_error'` which is equivalent.\n",
            "  FutureWarning,\n",
            "/usr/local/lib/python3.7/dist-packages/sklearn/tree/_classes.py:363: FutureWarning: Criterion 'mse' was deprecated in v1.0 and will be removed in version 1.2. Use `criterion='squared_error'` which is equivalent.\n",
            "  FutureWarning,\n",
            "/usr/local/lib/python3.7/dist-packages/sklearn/tree/_classes.py:363: FutureWarning: Criterion 'mse' was deprecated in v1.0 and will be removed in version 1.2. Use `criterion='squared_error'` which is equivalent.\n",
            "  FutureWarning,\n",
            "/usr/local/lib/python3.7/dist-packages/sklearn/tree/_classes.py:363: FutureWarning: Criterion 'mse' was deprecated in v1.0 and will be removed in version 1.2. Use `criterion='squared_error'` which is equivalent.\n",
            "  FutureWarning,\n",
            "/usr/local/lib/python3.7/dist-packages/sklearn/tree/_classes.py:363: FutureWarning: Criterion 'mse' was deprecated in v1.0 and will be removed in version 1.2. Use `criterion='squared_error'` which is equivalent.\n",
            "  FutureWarning,\n",
            "/usr/local/lib/python3.7/dist-packages/sklearn/tree/_classes.py:363: FutureWarning: Criterion 'mse' was deprecated in v1.0 and will be removed in version 1.2. Use `criterion='squared_error'` which is equivalent.\n",
            "  FutureWarning,\n",
            "/usr/local/lib/python3.7/dist-packages/sklearn/tree/_classes.py:363: FutureWarning: Criterion 'mse' was deprecated in v1.0 and will be removed in version 1.2. Use `criterion='squared_error'` which is equivalent.\n",
            "  FutureWarning,\n",
            "/usr/local/lib/python3.7/dist-packages/sklearn/tree/_classes.py:363: FutureWarning: Criterion 'mse' was deprecated in v1.0 and will be removed in version 1.2. Use `criterion='squared_error'` which is equivalent.\n",
            "  FutureWarning,\n",
            "/usr/local/lib/python3.7/dist-packages/sklearn/tree/_classes.py:363: FutureWarning: Criterion 'mse' was deprecated in v1.0 and will be removed in version 1.2. Use `criterion='squared_error'` which is equivalent.\n",
            "  FutureWarning,\n",
            "/usr/local/lib/python3.7/dist-packages/sklearn/tree/_classes.py:363: FutureWarning: Criterion 'mse' was deprecated in v1.0 and will be removed in version 1.2. Use `criterion='squared_error'` which is equivalent.\n",
            "  FutureWarning,\n",
            "/usr/local/lib/python3.7/dist-packages/sklearn/tree/_classes.py:363: FutureWarning: Criterion 'mse' was deprecated in v1.0 and will be removed in version 1.2. Use `criterion='squared_error'` which is equivalent.\n",
            "  FutureWarning,\n"
          ]
        },
        {
          "output_type": "execute_result",
          "data": {
            "text/plain": [
              "               model  best_score                                 best_params\n",
              "0  linear_regression    0.847796                        {'normalize': False}\n",
              "1              lasso    0.726758         {'alpha': 2, 'selection': 'random'}\n",
              "2      decision_tree    0.728143  {'criterion': 'mse', 'splitter': 'random'}"
            ],
            "text/html": [
              "\n",
              "  <div id=\"df-eb9d8a84-6fd8-41a8-a5ea-4d6de3cb5da4\">\n",
              "    <div class=\"colab-df-container\">\n",
              "      <div>\n",
              "<style scoped>\n",
              "    .dataframe tbody tr th:only-of-type {\n",
              "        vertical-align: middle;\n",
              "    }\n",
              "\n",
              "    .dataframe tbody tr th {\n",
              "        vertical-align: top;\n",
              "    }\n",
              "\n",
              "    .dataframe thead th {\n",
              "        text-align: right;\n",
              "    }\n",
              "</style>\n",
              "<table border=\"1\" class=\"dataframe\">\n",
              "  <thead>\n",
              "    <tr style=\"text-align: right;\">\n",
              "      <th></th>\n",
              "      <th>model</th>\n",
              "      <th>best_score</th>\n",
              "      <th>best_params</th>\n",
              "    </tr>\n",
              "  </thead>\n",
              "  <tbody>\n",
              "    <tr>\n",
              "      <th>0</th>\n",
              "      <td>linear_regression</td>\n",
              "      <td>0.847796</td>\n",
              "      <td>{'normalize': False}</td>\n",
              "    </tr>\n",
              "    <tr>\n",
              "      <th>1</th>\n",
              "      <td>lasso</td>\n",
              "      <td>0.726758</td>\n",
              "      <td>{'alpha': 2, 'selection': 'random'}</td>\n",
              "    </tr>\n",
              "    <tr>\n",
              "      <th>2</th>\n",
              "      <td>decision_tree</td>\n",
              "      <td>0.728143</td>\n",
              "      <td>{'criterion': 'mse', 'splitter': 'random'}</td>\n",
              "    </tr>\n",
              "  </tbody>\n",
              "</table>\n",
              "</div>\n",
              "      <button class=\"colab-df-convert\" onclick=\"convertToInteractive('df-eb9d8a84-6fd8-41a8-a5ea-4d6de3cb5da4')\"\n",
              "              title=\"Convert this dataframe to an interactive table.\"\n",
              "              style=\"display:none;\">\n",
              "        \n",
              "  <svg xmlns=\"http://www.w3.org/2000/svg\" height=\"24px\"viewBox=\"0 0 24 24\"\n",
              "       width=\"24px\">\n",
              "    <path d=\"M0 0h24v24H0V0z\" fill=\"none\"/>\n",
              "    <path d=\"M18.56 5.44l.94 2.06.94-2.06 2.06-.94-2.06-.94-.94-2.06-.94 2.06-2.06.94zm-11 1L8.5 8.5l.94-2.06 2.06-.94-2.06-.94L8.5 2.5l-.94 2.06-2.06.94zm10 10l.94 2.06.94-2.06 2.06-.94-2.06-.94-.94-2.06-.94 2.06-2.06.94z\"/><path d=\"M17.41 7.96l-1.37-1.37c-.4-.4-.92-.59-1.43-.59-.52 0-1.04.2-1.43.59L10.3 9.45l-7.72 7.72c-.78.78-.78 2.05 0 2.83L4 21.41c.39.39.9.59 1.41.59.51 0 1.02-.2 1.41-.59l7.78-7.78 2.81-2.81c.8-.78.8-2.07 0-2.86zM5.41 20L4 18.59l7.72-7.72 1.47 1.35L5.41 20z\"/>\n",
              "  </svg>\n",
              "      </button>\n",
              "      \n",
              "  <style>\n",
              "    .colab-df-container {\n",
              "      display:flex;\n",
              "      flex-wrap:wrap;\n",
              "      gap: 12px;\n",
              "    }\n",
              "\n",
              "    .colab-df-convert {\n",
              "      background-color: #E8F0FE;\n",
              "      border: none;\n",
              "      border-radius: 50%;\n",
              "      cursor: pointer;\n",
              "      display: none;\n",
              "      fill: #1967D2;\n",
              "      height: 32px;\n",
              "      padding: 0 0 0 0;\n",
              "      width: 32px;\n",
              "    }\n",
              "\n",
              "    .colab-df-convert:hover {\n",
              "      background-color: #E2EBFA;\n",
              "      box-shadow: 0px 1px 2px rgba(60, 64, 67, 0.3), 0px 1px 3px 1px rgba(60, 64, 67, 0.15);\n",
              "      fill: #174EA6;\n",
              "    }\n",
              "\n",
              "    [theme=dark] .colab-df-convert {\n",
              "      background-color: #3B4455;\n",
              "      fill: #D2E3FC;\n",
              "    }\n",
              "\n",
              "    [theme=dark] .colab-df-convert:hover {\n",
              "      background-color: #434B5C;\n",
              "      box-shadow: 0px 1px 3px 1px rgba(0, 0, 0, 0.15);\n",
              "      filter: drop-shadow(0px 1px 2px rgba(0, 0, 0, 0.3));\n",
              "      fill: #FFFFFF;\n",
              "    }\n",
              "  </style>\n",
              "\n",
              "      <script>\n",
              "        const buttonEl =\n",
              "          document.querySelector('#df-eb9d8a84-6fd8-41a8-a5ea-4d6de3cb5da4 button.colab-df-convert');\n",
              "        buttonEl.style.display =\n",
              "          google.colab.kernel.accessAllowed ? 'block' : 'none';\n",
              "\n",
              "        async function convertToInteractive(key) {\n",
              "          const element = document.querySelector('#df-eb9d8a84-6fd8-41a8-a5ea-4d6de3cb5da4');\n",
              "          const dataTable =\n",
              "            await google.colab.kernel.invokeFunction('convertToInteractive',\n",
              "                                                     [key], {});\n",
              "          if (!dataTable) return;\n",
              "\n",
              "          const docLinkHtml = 'Like what you see? Visit the ' +\n",
              "            '<a target=\"_blank\" href=https://colab.research.google.com/notebooks/data_table.ipynb>data table notebook</a>'\n",
              "            + ' to learn more about interactive tables.';\n",
              "          element.innerHTML = '';\n",
              "          dataTable['output_type'] = 'display_data';\n",
              "          await google.colab.output.renderOutput(dataTable, element);\n",
              "          const docLink = document.createElement('div');\n",
              "          docLink.innerHTML = docLinkHtml;\n",
              "          element.appendChild(docLink);\n",
              "        }\n",
              "      </script>\n",
              "    </div>\n",
              "  </div>\n",
              "  "
            ]
          },
          "metadata": {},
          "execution_count": 72
        }
      ]
    },
    {
      "cell_type": "markdown",
      "source": [
        "**Based on above results we can say that LinearRegression gives the best score. Hence we will use that.**"
      ],
      "metadata": {
        "id": "Azp3Xq2sTPX1"
      }
    },
    {
      "cell_type": "markdown",
      "source": [
        "**Test the model for few properties**"
      ],
      "metadata": {
        "id": "qZG5W6R-TUqw"
      }
    },
    {
      "cell_type": "code",
      "source": [
        "def predict_price(location,sqft,bath,bhk):    \n",
        "    loc_index = np.where(X.columns==location)[0][0]\n",
        "\n",
        "    x = np.zeros(len(X.columns))\n",
        "    x[0] = sqft\n",
        "    x[1] = bath\n",
        "    x[2] = bhk\n",
        "    if loc_index >= 0:\n",
        "        x[loc_index] = 1\n",
        "\n",
        "    return lr_clf.predict([x])[0]"
      ],
      "metadata": {
        "id": "BEHVFlq6TIKj"
      },
      "execution_count": 73,
      "outputs": []
    },
    {
      "cell_type": "code",
      "source": [
        "predict_price('1st Phase JP Nagar',1000, 2, 2)"
      ],
      "metadata": {
        "colab": {
          "base_uri": "https://localhost:8080/"
        },
        "id": "w-OTCkkETYRg",
        "outputId": "fda547f8-6947-4a86-bac3-1f2ef06b56b9"
      },
      "execution_count": 74,
      "outputs": [
        {
          "output_type": "stream",
          "name": "stderr",
          "text": [
            "/usr/local/lib/python3.7/dist-packages/sklearn/base.py:451: UserWarning: X does not have valid feature names, but LinearRegression was fitted with feature names\n",
            "  \"X does not have valid feature names, but\"\n"
          ]
        },
        {
          "output_type": "execute_result",
          "data": {
            "text/plain": [
              "83.86570258311595"
            ]
          },
          "metadata": {},
          "execution_count": 74
        }
      ]
    },
    {
      "cell_type": "code",
      "source": [
        "predict_price('1st Phase JP Nagar',1000, 3, 3)"
      ],
      "metadata": {
        "colab": {
          "base_uri": "https://localhost:8080/"
        },
        "id": "P3cU7mXHTajk",
        "outputId": "c27c61fb-76f7-4331-a28b-6ae427d5cf95"
      },
      "execution_count": 75,
      "outputs": [
        {
          "output_type": "stream",
          "name": "stderr",
          "text": [
            "/usr/local/lib/python3.7/dist-packages/sklearn/base.py:451: UserWarning: X does not have valid feature names, but LinearRegression was fitted with feature names\n",
            "  \"X does not have valid feature names, but\"\n"
          ]
        },
        {
          "output_type": "execute_result",
          "data": {
            "text/plain": [
              "86.08062284986363"
            ]
          },
          "metadata": {},
          "execution_count": 75
        }
      ]
    },
    {
      "cell_type": "code",
      "source": [
        "predict_price('Indira Nagar',1000, 2, 2)"
      ],
      "metadata": {
        "colab": {
          "base_uri": "https://localhost:8080/"
        },
        "id": "BwqgXt3NTcvF",
        "outputId": "593586d7-925c-4022-9159-1fdd8d7f7956"
      },
      "execution_count": 76,
      "outputs": [
        {
          "output_type": "stream",
          "name": "stderr",
          "text": [
            "/usr/local/lib/python3.7/dist-packages/sklearn/base.py:451: UserWarning: X does not have valid feature names, but LinearRegression was fitted with feature names\n",
            "  \"X does not have valid feature names, but\"\n"
          ]
        },
        {
          "output_type": "execute_result",
          "data": {
            "text/plain": [
              "193.3119773317968"
            ]
          },
          "metadata": {},
          "execution_count": 76
        }
      ]
    },
    {
      "cell_type": "code",
      "source": [
        "predict_price('Indira Nagar',1000, 3, 3)"
      ],
      "metadata": {
        "colab": {
          "base_uri": "https://localhost:8080/"
        },
        "id": "-efBiHcNTeie",
        "outputId": "db8f5015-7d85-4968-9405-4be7af282d1c"
      },
      "execution_count": 77,
      "outputs": [
        {
          "output_type": "stream",
          "name": "stderr",
          "text": [
            "/usr/local/lib/python3.7/dist-packages/sklearn/base.py:451: UserWarning: X does not have valid feature names, but LinearRegression was fitted with feature names\n",
            "  \"X does not have valid feature names, but\"\n"
          ]
        },
        {
          "output_type": "execute_result",
          "data": {
            "text/plain": [
              "195.5268975985445"
            ]
          },
          "metadata": {},
          "execution_count": 77
        }
      ]
    },
    {
      "cell_type": "code",
      "source": [
        "import pickle"
      ],
      "metadata": {
        "id": "GPvpBXPdi0AN"
      },
      "execution_count": null,
      "outputs": []
    },
    {
      "cell_type": "code",
      "source": [
        "pickle.dump(find_best_model_using_gridsearchcv,open('model.pkl','wb'))"
      ],
      "metadata": {
        "id": "WT43t-UTi3Qe"
      },
      "execution_count": null,
      "outputs": []
    }
  ]
}